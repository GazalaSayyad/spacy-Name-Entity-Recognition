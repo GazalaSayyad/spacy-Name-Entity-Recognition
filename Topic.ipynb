{
  "nbformat": 4,
  "nbformat_minor": 0,
  "metadata": {
    "colab": {
      "name": "Topic.ipynb",
      "provenance": [],
      "collapsed_sections": [],
      "authorship_tag": "ABX9TyNYhaohjrk9LxvHAB+jDHVp",
      "include_colab_link": true
    },
    "kernelspec": {
      "name": "python3",
      "display_name": "Python 3"
    }
  },
  "cells": [
    {
      "cell_type": "markdown",
      "metadata": {
        "id": "view-in-github",
        "colab_type": "text"
      },
      "source": [
        "<a href=\"https://colab.research.google.com/github/GazalaSayyad/spacy-Name-Entity-Recognition/blob/master/Topic.ipynb\" target=\"_parent\"><img src=\"https://colab.research.google.com/assets/colab-badge.svg\" alt=\"Open In Colab\"/></a>"
      ]
    },
    {
      "cell_type": "markdown",
      "metadata": {
        "id": "HFzVRv64GEUH",
        "colab_type": "text"
      },
      "source": [
        "Topic modeling"
      ]
    },
    {
      "cell_type": "code",
      "metadata": {
        "id": "ez0WF-G-GHp5",
        "colab_type": "code",
        "colab": {}
      },
      "source": [
        "import pandas as pd"
      ],
      "execution_count": 0,
      "outputs": []
    },
    {
      "cell_type": "code",
      "metadata": {
        "id": "jP8ThiqaGSlC",
        "colab_type": "code",
        "colab": {}
      },
      "source": [
        "data=pd.read_excel('newsData.xls')"
      ],
      "execution_count": 0,
      "outputs": []
    },
    {
      "cell_type": "code",
      "metadata": {
        "id": "USi0F8wJGTld",
        "colab_type": "code",
        "outputId": "2ee718ff-1077-4a93-a236-3d5144b70601",
        "colab": {
          "base_uri": "https://localhost:8080/",
          "height": 564
        }
      },
      "source": [
        "data.head()"
      ],
      "execution_count": 0,
      "outputs": [
        {
          "output_type": "execute_result",
          "data": {
            "text/html": [
              "<div>\n",
              "<style scoped>\n",
              "    .dataframe tbody tr th:only-of-type {\n",
              "        vertical-align: middle;\n",
              "    }\n",
              "\n",
              "    .dataframe tbody tr th {\n",
              "        vertical-align: top;\n",
              "    }\n",
              "\n",
              "    .dataframe thead th {\n",
              "        text-align: right;\n",
              "    }\n",
              "</style>\n",
              "<table border=\"1\" class=\"dataframe\">\n",
              "  <thead>\n",
              "    <tr style=\"text-align: right;\">\n",
              "      <th></th>\n",
              "      <th>Post Link</th>\n",
              "      <th>Post Order in Thread</th>\n",
              "      <th>Author</th>\n",
              "      <th>Post Publication Date</th>\n",
              "      <th>Title</th>\n",
              "      <th>Text</th>\n",
              "      <th>Language</th>\n",
              "      <th>External Links</th>\n",
              "      <th>Mentioned Persons (positive)</th>\n",
              "      <th>Mentioned Persons (negative)</th>\n",
              "      <th>Mentioned Persons (neutral)</th>\n",
              "      <th>Mentioned Persons (none)</th>\n",
              "      <th>Mentioned Locations</th>\n",
              "      <th>Mentioned Organizations (positive)</th>\n",
              "      <th>Mentioned Organizations (negative)</th>\n",
              "      <th>Mentioned Organizations (neutral)</th>\n",
              "      <th>Mentioned Organizations (none)</th>\n",
              "      <th>Thread Link</th>\n",
              "      <th>Title.1</th>\n",
              "      <th>Section Link</th>\n",
              "      <th>Section Title</th>\n",
              "      <th>Thread Publication Date</th>\n",
              "      <th>Comments Count</th>\n",
              "      <th>Participants Count</th>\n",
              "      <th>Site Type</th>\n",
              "      <th>Site Name</th>\n",
              "      <th>Site Country</th>\n",
              "      <th>Main Image</th>\n",
              "      <th>Performance Score</th>\n",
              "      <th>Rating</th>\n",
              "    </tr>\n",
              "  </thead>\n",
              "  <tbody>\n",
              "    <tr>\n",
              "      <th>0</th>\n",
              "      <td>http://omgili.com/ri/.wHSUbtEfZSbaqzVQLqf6K5IO...</td>\n",
              "      <td>0</td>\n",
              "      <td>NaN</td>\n",
              "      <td>2018-11-13T01:00:00.000+02:00</td>\n",
              "      <td>PRRSV surveillance. How we could track PRRS co...</td>\n",
              "      <td>follow 2 Like\\nIn previous articles we reviewe...</td>\n",
              "      <td>english</td>\n",
              "      <td>NaN</td>\n",
              "      <td>NaN</td>\n",
              "      <td>NaN</td>\n",
              "      <td>NaN</td>\n",
              "      <td>wang ,</td>\n",
              "      <td>china , north america , germany , spain ,</td>\n",
              "      <td>NaN</td>\n",
              "      <td>NaN</td>\n",
              "      <td>NaN</td>\n",
              "      <td>NaN</td>\n",
              "      <td>http://omgili.com/ri/.wHSUbtEfZSbaqzVQLqf6K5IO...</td>\n",
              "      <td>PRRSV surveillance. How we could track PRRS co...</td>\n",
              "      <td>https://www.pig333.com/rss/home</td>\n",
              "      <td>Pig to pork</td>\n",
              "      <td>2018-11-13T01:00:00.000+02:00</td>\n",
              "      <td>0</td>\n",
              "      <td>0</td>\n",
              "      <td>news</td>\n",
              "      <td>pig333.com</td>\n",
              "      <td>ES</td>\n",
              "      <td>https://www.pig333.com/3tres3_common/art/pig33...</td>\n",
              "      <td>0</td>\n",
              "      <td>NaN</td>\n",
              "    </tr>\n",
              "    <tr>\n",
              "      <th>1</th>\n",
              "      <td>http://omgili.com/ri/.wHSUbtEfZRDcqHtpKs66rN2v...</td>\n",
              "      <td>0</td>\n",
              "      <td>NaN</td>\n",
              "      <td>2018-11-13T16:47:00.000+02:00</td>\n",
              "      <td>Ant Download Manager Pro 1.10.2 Build 54254 + ...</td>\n",
              "      <td>Visit TutsGalaxy.com for tutorials &amp; free cour...</td>\n",
              "      <td>english</td>\n",
              "      <td>NaN</td>\n",
              "      <td>NaN</td>\n",
              "      <td>NaN</td>\n",
              "      <td>NaN</td>\n",
              "      <td>slimjet ,</td>\n",
              "      <td>NaN</td>\n",
              "      <td>NaN</td>\n",
              "      <td>NaN</td>\n",
              "      <td>NaN</td>\n",
              "      <td>mozilla firefox , google chrome ,</td>\n",
              "      <td>http://omgili.com/ri/.wHSUbtEfZRDcqHtpKs66rN2v...</td>\n",
              "      <td>Ant Download Manager Pro 1.10.2 Build 54254 + ...</td>\n",
              "      <td>http://www.limetorrents.cc/rss/</td>\n",
              "      <td>LimeTorrents.info - RSS Feed</td>\n",
              "      <td>2018-11-13T16:47:00.000+02:00</td>\n",
              "      <td>0</td>\n",
              "      <td>0</td>\n",
              "      <td>blogs</td>\n",
              "      <td>limetorrents.info</td>\n",
              "      <td>CC</td>\n",
              "      <td>NaN</td>\n",
              "      <td>0</td>\n",
              "      <td>NaN</td>\n",
              "    </tr>\n",
              "    <tr>\n",
              "      <th>2</th>\n",
              "      <td>http://omgili.com/ri/_0JOtn.4SCoF5VTZjCccpVxqD...</td>\n",
              "      <td>13</td>\n",
              "      <td>Anonymous</td>\n",
              "      <td>2018-11-13T17:20:00.000+02:00</td>\n",
              "      <td>NaN</td>\n",
              "      <td>I'm so sorry you had to witness this</td>\n",
              "      <td>english</td>\n",
              "      <td>NaN</td>\n",
              "      <td>NaN</td>\n",
              "      <td>NaN</td>\n",
              "      <td>NaN</td>\n",
              "      <td>NaN</td>\n",
              "      <td>NaN</td>\n",
              "      <td>NaN</td>\n",
              "      <td>NaN</td>\n",
              "      <td>NaN</td>\n",
              "      <td>NaN</td>\n",
              "      <td>http://omgili.com/ri/_0JOtn.4SCoF5VTZjCccpVxqD...</td>\n",
              "      <td>.</td>\n",
              "      <td>http://boards.4chan.org/int/</td>\n",
              "      <td>/int/ - International - 4chan</td>\n",
              "      <td>2018-11-13T16:52:00.000+02:00</td>\n",
              "      <td>140</td>\n",
              "      <td>1</td>\n",
              "      <td>discussions</td>\n",
              "      <td>4chan.org</td>\n",
              "      <td>US</td>\n",
              "      <td>NaN</td>\n",
              "      <td>0</td>\n",
              "      <td>NaN</td>\n",
              "    </tr>\n",
              "    <tr>\n",
              "      <th>3</th>\n",
              "      <td>http://omgili.com/ri/_0JOtn.4SCoF5VTZjCccpVxqD...</td>\n",
              "      <td>15</td>\n",
              "      <td>Anonymous</td>\n",
              "      <td>2018-11-13T17:31:00.000+02:00</td>\n",
              "      <td>NaN</td>\n",
              "      <td>yikers&amp;cringers</td>\n",
              "      <td>english</td>\n",
              "      <td>NaN</td>\n",
              "      <td>NaN</td>\n",
              "      <td>NaN</td>\n",
              "      <td>NaN</td>\n",
              "      <td>NaN</td>\n",
              "      <td>NaN</td>\n",
              "      <td>NaN</td>\n",
              "      <td>NaN</td>\n",
              "      <td>NaN</td>\n",
              "      <td>NaN</td>\n",
              "      <td>http://omgili.com/ri/_0JOtn.4SCoF5VTZjCccpVxqD...</td>\n",
              "      <td>.</td>\n",
              "      <td>http://boards.4chan.org/int/</td>\n",
              "      <td>/int/ - International - 4chan</td>\n",
              "      <td>2018-11-13T16:52:00.000+02:00</td>\n",
              "      <td>140</td>\n",
              "      <td>1</td>\n",
              "      <td>discussions</td>\n",
              "      <td>4chan.org</td>\n",
              "      <td>US</td>\n",
              "      <td>NaN</td>\n",
              "      <td>0</td>\n",
              "      <td>NaN</td>\n",
              "    </tr>\n",
              "    <tr>\n",
              "      <th>4</th>\n",
              "      <td>http://omgili.com/ri/2wGaacqxApv27k8wLB.qKT5en...</td>\n",
              "      <td>0</td>\n",
              "      <td>NaN</td>\n",
              "      <td>2018-11-13T18:53:00.000+02:00</td>\n",
              "      <td>Shiv Bhola Bhala Gora Beth Bolero Mein Shiv Bhole</td>\n",
              "      <td>Home / Music / shiv bhola bhala gora beth bole...</td>\n",
              "      <td>english</td>\n",
              "      <td>http://data-vocabulary.org/Breadcrumb , http:/...</td>\n",
              "      <td>NaN</td>\n",
              "      <td>NaN</td>\n",
              "      <td>NaN</td>\n",
              "      <td>shiv bhola bhala gora beth bolero ,</td>\n",
              "      <td>NaN</td>\n",
              "      <td>NaN</td>\n",
              "      <td>NaN</td>\n",
              "      <td>NaN</td>\n",
              "      <td>NaN</td>\n",
              "      <td>http://omgili.com/ri/2wGaacqxApv27k8wLB.qKT5en...</td>\n",
              "      <td>Shiv Bhola Bhala Gora Beth Bolero Mein Shiv Bhole</td>\n",
              "      <td>http://musik.axom.in/feed</td>\n",
              "      <td>Download Free Audio mp3 songs | musika.axom.in</td>\n",
              "      <td>2018-11-13T18:53:00.000+02:00</td>\n",
              "      <td>0</td>\n",
              "      <td>0</td>\n",
              "      <td>news</td>\n",
              "      <td>axom.in</td>\n",
              "      <td>IN</td>\n",
              "      <td>http://musik.axom.in/images/mp3-songs-download...</td>\n",
              "      <td>0</td>\n",
              "      <td>NaN</td>\n",
              "    </tr>\n",
              "  </tbody>\n",
              "</table>\n",
              "</div>"
            ],
            "text/plain": [
              "                                           Post Link  ...  Rating\n",
              "0  http://omgili.com/ri/.wHSUbtEfZSbaqzVQLqf6K5IO...  ...     NaN\n",
              "1  http://omgili.com/ri/.wHSUbtEfZRDcqHtpKs66rN2v...  ...     NaN\n",
              "2  http://omgili.com/ri/_0JOtn.4SCoF5VTZjCccpVxqD...  ...     NaN\n",
              "3  http://omgili.com/ri/_0JOtn.4SCoF5VTZjCccpVxqD...  ...     NaN\n",
              "4  http://omgili.com/ri/2wGaacqxApv27k8wLB.qKT5en...  ...     NaN\n",
              "\n",
              "[5 rows x 30 columns]"
            ]
          },
          "metadata": {
            "tags": []
          },
          "execution_count": 22
        }
      ]
    },
    {
      "cell_type": "code",
      "metadata": {
        "id": "aZ4fy4THGc_z",
        "colab_type": "code",
        "outputId": "07003cb6-c904-4baa-8ec8-2e7337b11165",
        "colab": {
          "base_uri": "https://localhost:8080/",
          "height": 581
        }
      },
      "source": [
        "data.isnull().sum()"
      ],
      "execution_count": 0,
      "outputs": [
        {
          "output_type": "execute_result",
          "data": {
            "text/plain": [
              "Post Link                               0\n",
              "Post Order in Thread                    0\n",
              "Author                                 16\n",
              "Post Publication Date                   0\n",
              "Title                                  63\n",
              "Text                                    1\n",
              "Language                                0\n",
              "External Links                         82\n",
              "Mentioned Persons (positive)          100\n",
              "Mentioned Persons (negative)           98\n",
              "Mentioned Persons (neutral)           100\n",
              "Mentioned Persons (none)               84\n",
              "Mentioned Locations                    88\n",
              "Mentioned Organizations (positive)    100\n",
              "Mentioned Organizations (negative)     98\n",
              "Mentioned Organizations (neutral)     100\n",
              "Mentioned Organizations (none)         87\n",
              "Thread Link                             0\n",
              "Title.1                                 1\n",
              "Section Link                            7\n",
              "Section Title                           8\n",
              "Thread Publication Date                 0\n",
              "Comments Count                          0\n",
              "Participants Count                      0\n",
              "Site Type                               0\n",
              "Site Name                               0\n",
              "Site Country                            0\n",
              "Main Image                             68\n",
              "Performance Score                       0\n",
              "Rating                                 97\n",
              "dtype: int64"
            ]
          },
          "metadata": {
            "tags": []
          },
          "execution_count": 23
        }
      ]
    },
    {
      "cell_type": "code",
      "metadata": {
        "id": "BpWhrwJPGheN",
        "colab_type": "code",
        "colab": {}
      },
      "source": [
        "to_drop = ['Mentioned Persons (positive)',\n",
        "           'Mentioned Persons (negative)',\n",
        "           'Mentioned Persons (neutral)',\n",
        "           'Mentioned Persons (none)',\n",
        "           'Mentioned Organizations (positive)',\n",
        "           'Mentioned Organizations (negative)',\n",
        "           'Mentioned Organizations (neutral)',\n",
        "           'Mentioned Organizations (none)',\n",
        "           'Main Image',\n",
        "           'Post Link',\n",
        "           'Post Order in Thread',\n",
        "           'Author',\n",
        "           'Post Publication Date',\n",
        "           'Title',\n",
        "           'Main Image',\n",
        "           'Rating',\n",
        "           'Language']\n",
        "            \n",
        "data.drop(to_drop, inplace=True, axis=1)"
      ],
      "execution_count": 0,
      "outputs": []
    },
    {
      "cell_type": "code",
      "metadata": {
        "id": "8ZVIilI1GkT7",
        "colab_type": "code",
        "outputId": "7be7a033-fd1d-498d-dbbc-b5ec8c63f9af",
        "colab": {
          "base_uri": "https://localhost:8080/",
          "height": 529
        }
      },
      "source": [
        "data.head()"
      ],
      "execution_count": 0,
      "outputs": [
        {
          "output_type": "execute_result",
          "data": {
            "text/html": [
              "<div>\n",
              "<style scoped>\n",
              "    .dataframe tbody tr th:only-of-type {\n",
              "        vertical-align: middle;\n",
              "    }\n",
              "\n",
              "    .dataframe tbody tr th {\n",
              "        vertical-align: top;\n",
              "    }\n",
              "\n",
              "    .dataframe thead th {\n",
              "        text-align: right;\n",
              "    }\n",
              "</style>\n",
              "<table border=\"1\" class=\"dataframe\">\n",
              "  <thead>\n",
              "    <tr style=\"text-align: right;\">\n",
              "      <th></th>\n",
              "      <th>Text</th>\n",
              "      <th>External Links</th>\n",
              "      <th>Mentioned Locations</th>\n",
              "      <th>Thread Link</th>\n",
              "      <th>Title.1</th>\n",
              "      <th>Section Link</th>\n",
              "      <th>Section Title</th>\n",
              "      <th>Thread Publication Date</th>\n",
              "      <th>Comments Count</th>\n",
              "      <th>Participants Count</th>\n",
              "      <th>Site Type</th>\n",
              "      <th>Site Name</th>\n",
              "      <th>Site Country</th>\n",
              "      <th>Performance Score</th>\n",
              "    </tr>\n",
              "  </thead>\n",
              "  <tbody>\n",
              "    <tr>\n",
              "      <th>0</th>\n",
              "      <td>follow 2 Like\\nIn previous articles we reviewe...</td>\n",
              "      <td>NaN</td>\n",
              "      <td>china , north america , germany , spain ,</td>\n",
              "      <td>http://omgili.com/ri/.wHSUbtEfZSbaqzVQLqf6K5IO...</td>\n",
              "      <td>PRRSV surveillance. How we could track PRRS co...</td>\n",
              "      <td>https://www.pig333.com/rss/home</td>\n",
              "      <td>Pig to pork</td>\n",
              "      <td>2018-11-13T01:00:00.000+02:00</td>\n",
              "      <td>0</td>\n",
              "      <td>0</td>\n",
              "      <td>news</td>\n",
              "      <td>pig333.com</td>\n",
              "      <td>ES</td>\n",
              "      <td>0</td>\n",
              "    </tr>\n",
              "    <tr>\n",
              "      <th>1</th>\n",
              "      <td>Visit TutsGalaxy.com for tutorials &amp; free cour...</td>\n",
              "      <td>NaN</td>\n",
              "      <td>NaN</td>\n",
              "      <td>http://omgili.com/ri/.wHSUbtEfZRDcqHtpKs66rN2v...</td>\n",
              "      <td>Ant Download Manager Pro 1.10.2 Build 54254 + ...</td>\n",
              "      <td>http://www.limetorrents.cc/rss/</td>\n",
              "      <td>LimeTorrents.info - RSS Feed</td>\n",
              "      <td>2018-11-13T16:47:00.000+02:00</td>\n",
              "      <td>0</td>\n",
              "      <td>0</td>\n",
              "      <td>blogs</td>\n",
              "      <td>limetorrents.info</td>\n",
              "      <td>CC</td>\n",
              "      <td>0</td>\n",
              "    </tr>\n",
              "    <tr>\n",
              "      <th>2</th>\n",
              "      <td>I'm so sorry you had to witness this</td>\n",
              "      <td>NaN</td>\n",
              "      <td>NaN</td>\n",
              "      <td>http://omgili.com/ri/_0JOtn.4SCoF5VTZjCccpVxqD...</td>\n",
              "      <td>.</td>\n",
              "      <td>http://boards.4chan.org/int/</td>\n",
              "      <td>/int/ - International - 4chan</td>\n",
              "      <td>2018-11-13T16:52:00.000+02:00</td>\n",
              "      <td>140</td>\n",
              "      <td>1</td>\n",
              "      <td>discussions</td>\n",
              "      <td>4chan.org</td>\n",
              "      <td>US</td>\n",
              "      <td>0</td>\n",
              "    </tr>\n",
              "    <tr>\n",
              "      <th>3</th>\n",
              "      <td>yikers&amp;cringers</td>\n",
              "      <td>NaN</td>\n",
              "      <td>NaN</td>\n",
              "      <td>http://omgili.com/ri/_0JOtn.4SCoF5VTZjCccpVxqD...</td>\n",
              "      <td>.</td>\n",
              "      <td>http://boards.4chan.org/int/</td>\n",
              "      <td>/int/ - International - 4chan</td>\n",
              "      <td>2018-11-13T16:52:00.000+02:00</td>\n",
              "      <td>140</td>\n",
              "      <td>1</td>\n",
              "      <td>discussions</td>\n",
              "      <td>4chan.org</td>\n",
              "      <td>US</td>\n",
              "      <td>0</td>\n",
              "    </tr>\n",
              "    <tr>\n",
              "      <th>4</th>\n",
              "      <td>Home / Music / shiv bhola bhala gora beth bole...</td>\n",
              "      <td>http://data-vocabulary.org/Breadcrumb , http:/...</td>\n",
              "      <td>NaN</td>\n",
              "      <td>http://omgili.com/ri/2wGaacqxApv27k8wLB.qKT5en...</td>\n",
              "      <td>Shiv Bhola Bhala Gora Beth Bolero Mein Shiv Bhole</td>\n",
              "      <td>http://musik.axom.in/feed</td>\n",
              "      <td>Download Free Audio mp3 songs | musika.axom.in</td>\n",
              "      <td>2018-11-13T18:53:00.000+02:00</td>\n",
              "      <td>0</td>\n",
              "      <td>0</td>\n",
              "      <td>news</td>\n",
              "      <td>axom.in</td>\n",
              "      <td>IN</td>\n",
              "      <td>0</td>\n",
              "    </tr>\n",
              "  </tbody>\n",
              "</table>\n",
              "</div>"
            ],
            "text/plain": [
              "                                                Text  ... Performance Score\n",
              "0  follow 2 Like\\nIn previous articles we reviewe...  ...                 0\n",
              "1  Visit TutsGalaxy.com for tutorials & free cour...  ...                 0\n",
              "2               I'm so sorry you had to witness this  ...                 0\n",
              "3                                    yikers&cringers  ...                 0\n",
              "4  Home / Music / shiv bhola bhala gora beth bole...  ...                 0\n",
              "\n",
              "[5 rows x 14 columns]"
            ]
          },
          "metadata": {
            "tags": []
          },
          "execution_count": 26
        }
      ]
    },
    {
      "cell_type": "code",
      "metadata": {
        "id": "RXT_J487Gxww",
        "colab_type": "code",
        "outputId": "87497861-20c8-4ab0-96a7-aafd6c5d15f3",
        "colab": {
          "base_uri": "https://localhost:8080/",
          "height": 55
        }
      },
      "source": [
        "data['Text'][50]"
      ],
      "execution_count": 0,
      "outputs": [
        {
          "output_type": "execute_result",
          "data": {
            "text/plain": [
              "\"Quote: : » Quote: : » Quote: : » Quote: : » Quote: : » Little Mix on Bowie's label?\\nRCA have hundreds of artists on their books. Not sure what Bowie being one of them has to do with anything.\\nFollowing in the footsteps of giants? No sense of history or romance then?\\nReally not sure what you’re getting at.\\nI didn't think you did the first time either.\\nIf you were in a group that ends up on the same label as legends like Bowie and Presley would you not feel a sense of achievement?\\nNo not really.\""
            ]
          },
          "metadata": {
            "tags": []
          },
          "execution_count": 27
        }
      ]
    },
    {
      "cell_type": "code",
      "metadata": {
        "id": "QjsXpDv0G1e_",
        "colab_type": "code",
        "colab": {}
      },
      "source": [
        "from sklearn.feature_extraction.text import CountVectorizer\n",
        "\n",
        "count_vect = CountVectorizer(max_df=0.8, min_df=2, stop_words='english')\n",
        "doc_term_matrix = count_vect.fit_transform(data['Text'].values.astype('U'))"
      ],
      "execution_count": 0,
      "outputs": []
    },
    {
      "cell_type": "code",
      "metadata": {
        "id": "KIrOYag2G5Fm",
        "colab_type": "code",
        "outputId": "e781abe9-5efd-4450-9f85-9e9d32447540",
        "colab": {
          "base_uri": "https://localhost:8080/",
          "height": 54
        }
      },
      "source": [
        "doc_term_matrix"
      ],
      "execution_count": 0,
      "outputs": [
        {
          "output_type": "execute_result",
          "data": {
            "text/plain": [
              "<100x807 sparse matrix of type '<class 'numpy.int64'>'\n",
              "\twith 2368 stored elements in Compressed Sparse Row format>"
            ]
          },
          "metadata": {
            "tags": []
          },
          "execution_count": 28
        }
      ]
    },
    {
      "cell_type": "code",
      "metadata": {
        "id": "-2socJH8G8xy",
        "colab_type": "code",
        "outputId": "801cc10d-d9ba-4185-9fa7-05f4475140a8",
        "colab": {
          "base_uri": "https://localhost:8080/",
          "height": 145
        }
      },
      "source": [
        "from sklearn.decomposition import LatentDirichletAllocation\n",
        "\n",
        "LDA = LatentDirichletAllocation(n_components=5, random_state=42)\n",
        "LDA.fit(doc_term_matrix)"
      ],
      "execution_count": 0,
      "outputs": [
        {
          "output_type": "execute_result",
          "data": {
            "text/plain": [
              "LatentDirichletAllocation(batch_size=128, doc_topic_prior=None,\n",
              "                          evaluate_every=-1, learning_decay=0.7,\n",
              "                          learning_method='batch', learning_offset=10.0,\n",
              "                          max_doc_update_iter=100, max_iter=10,\n",
              "                          mean_change_tol=0.001, n_components=5, n_jobs=None,\n",
              "                          perp_tol=0.1, random_state=42, topic_word_prior=None,\n",
              "                          total_samples=1000000.0, verbose=0)"
            ]
          },
          "metadata": {
            "tags": []
          },
          "execution_count": 29
        }
      ]
    },
    {
      "cell_type": "code",
      "metadata": {
        "id": "r4Bmp6xTHAMY",
        "colab_type": "code",
        "outputId": "96c3cf49-dafa-482d-c05c-0112cd12cae5",
        "colab": {
          "base_uri": "https://localhost:8080/",
          "height": 199
        }
      },
      "source": [
        "import random\n",
        "\n",
        "for i in range(10):\n",
        "    random_id = random.randint(0,len(count_vect.get_feature_names()))\n",
        "    print(count_vect.get_feature_names()[random_id])"
      ],
      "execution_count": 0,
      "outputs": [
        {
          "output_type": "stream",
          "text": [
            "easy\n",
            "sale\n",
            "slightly\n",
            "long\n",
            "thousands\n",
            "things\n",
            "100\n",
            "roof\n",
            "groups\n",
            "000\n"
          ],
          "name": "stdout"
        }
      ]
    },
    {
      "cell_type": "code",
      "metadata": {
        "id": "zpwdS7ztHElK",
        "colab_type": "code",
        "colab": {}
      },
      "source": [
        "first_topic = LDA.components_[0]"
      ],
      "execution_count": 0,
      "outputs": []
    },
    {
      "cell_type": "code",
      "metadata": {
        "id": "XauxW_ULHIGS",
        "colab_type": "code",
        "colab": {}
      },
      "source": [
        "top_topic_words = first_topic.argsort()[-10:]"
      ],
      "execution_count": 0,
      "outputs": []
    },
    {
      "cell_type": "code",
      "metadata": {
        "id": "Kff9OgyWHLnc",
        "colab_type": "code",
        "outputId": "b3476f75-42b2-4a5a-b66e-dd31cca894c6",
        "colab": {
          "base_uri": "https://localhost:8080/",
          "height": 35
        }
      },
      "source": [
        "top_topic_words"
      ],
      "execution_count": 0,
      "outputs": [
        {
          "output_type": "execute_result",
          "data": {
            "text/plain": [
              "array([711, 558,   7, 803, 482,   1, 148, 590, 697,  55])"
            ]
          },
          "metadata": {
            "tags": []
          },
          "execution_count": 33
        }
      ]
    },
    {
      "cell_type": "code",
      "metadata": {
        "id": "G23NiLbiHPZA",
        "colab_type": "code",
        "outputId": "d50d2cb0-ab28-4bf6-f923-3f196b520609",
        "colab": {
          "base_uri": "https://localhost:8080/",
          "height": 199
        }
      },
      "source": [
        "for i in top_topic_words:\n",
        "    print(count_vect.get_feature_names()[i])"
      ],
      "execution_count": 0,
      "outputs": [
        {
          "output_type": "stream",
          "text": [
            "support\n",
            "price\n",
            "13\n",
            "year\n",
            "new\n",
            "000\n",
            "company\n",
            "real\n",
            "stock\n",
            "america\n"
          ],
          "name": "stdout"
        }
      ]
    },
    {
      "cell_type": "code",
      "metadata": {
        "id": "ddG3OklwHUGr",
        "colab_type": "code",
        "outputId": "8089a4e0-8773-407f-c439-b63b632afab0",
        "colab": {
          "base_uri": "https://localhost:8080/",
          "height": 381
        }
      },
      "source": [
        "for i,topic in enumerate(LDA.components_):\n",
        "    print(f'Top 10 words for topic #{i}:')\n",
        "    print([count_vect.get_feature_names()[i] for i in topic.argsort()[-10:]])\n",
        "    print('\\n')"
      ],
      "execution_count": 0,
      "outputs": [
        {
          "output_type": "stream",
          "text": [
            "Top 10 words for topic #0:\n",
            "['support', 'price', '13', 'year', 'new', '000', 'company', 'real', 'stock', 'america']\n",
            "\n",
            "\n",
            "Top 10 words for topic #1:\n",
            "['like', 'just', 'oh', 'law', 'company', 'come', 'notes', 'say', 'parts', 'says']\n",
            "\n",
            "\n",
            "Top 10 words for topic #2:\n",
            "['said', 'download', '20', '000', 'new', 'just', 'media', 'company', 'amazon', 'iphone']\n",
            "\n",
            "\n",
            "Top 10 words for topic #3:\n",
            "['db', 'action', 'break', 'people', 'city', '13', 'november', 'american', 'state', '2018']\n",
            "\n",
            "\n",
            "Top 10 words for topic #4:\n",
            "['sense', 'rca', 'farm', 'label', 'sure', 'control', 'pigs', 'vaccination', 'bowie', 'quote']\n",
            "\n",
            "\n"
          ],
          "name": "stdout"
        }
      ]
    },
    {
      "cell_type": "code",
      "metadata": {
        "id": "6lF7F7LfHYwK",
        "colab_type": "code",
        "outputId": "491226f0-8aea-4da0-8297-9b75a62603a4",
        "colab": {
          "base_uri": "https://localhost:8080/",
          "height": 35
        }
      },
      "source": [
        "topic_values = LDA.transform(doc_term_matrix)\n",
        "topic_values.shape"
      ],
      "execution_count": 0,
      "outputs": [
        {
          "output_type": "execute_result",
          "data": {
            "text/plain": [
              "(100, 5)"
            ]
          },
          "metadata": {
            "tags": []
          },
          "execution_count": 36
        }
      ]
    },
    {
      "cell_type": "code",
      "metadata": {
        "id": "U1lpwiK7Hc3O",
        "colab_type": "code",
        "colab": {}
      },
      "source": [
        "data['Topic'] = topic_values.argmax(axis=1)"
      ],
      "execution_count": 0,
      "outputs": []
    },
    {
      "cell_type": "code",
      "metadata": {
        "id": "-bKsFTSnHehX",
        "colab_type": "code",
        "outputId": "f563afb8-bf48-4bdb-8369-1d5c4c9cc99b",
        "colab": {
          "base_uri": "https://localhost:8080/",
          "height": 963
        }
      },
      "source": [
        "data"
      ],
      "execution_count": 0,
      "outputs": [
        {
          "output_type": "execute_result",
          "data": {
            "text/html": [
              "<div>\n",
              "<style scoped>\n",
              "    .dataframe tbody tr th:only-of-type {\n",
              "        vertical-align: middle;\n",
              "    }\n",
              "\n",
              "    .dataframe tbody tr th {\n",
              "        vertical-align: top;\n",
              "    }\n",
              "\n",
              "    .dataframe thead th {\n",
              "        text-align: right;\n",
              "    }\n",
              "</style>\n",
              "<table border=\"1\" class=\"dataframe\">\n",
              "  <thead>\n",
              "    <tr style=\"text-align: right;\">\n",
              "      <th></th>\n",
              "      <th>Text</th>\n",
              "      <th>External Links</th>\n",
              "      <th>Mentioned Locations</th>\n",
              "      <th>Thread Link</th>\n",
              "      <th>Title.1</th>\n",
              "      <th>Section Link</th>\n",
              "      <th>Section Title</th>\n",
              "      <th>Thread Publication Date</th>\n",
              "      <th>Comments Count</th>\n",
              "      <th>Participants Count</th>\n",
              "      <th>Site Type</th>\n",
              "      <th>Site Name</th>\n",
              "      <th>Site Country</th>\n",
              "      <th>Performance Score</th>\n",
              "      <th>Topic</th>\n",
              "    </tr>\n",
              "  </thead>\n",
              "  <tbody>\n",
              "    <tr>\n",
              "      <th>0</th>\n",
              "      <td>follow 2 Like\\nIn previous articles we reviewe...</td>\n",
              "      <td>NaN</td>\n",
              "      <td>china , north america , germany , spain ,</td>\n",
              "      <td>http://omgili.com/ri/.wHSUbtEfZSbaqzVQLqf6K5IO...</td>\n",
              "      <td>PRRSV surveillance. How we could track PRRS co...</td>\n",
              "      <td>https://www.pig333.com/rss/home</td>\n",
              "      <td>Pig to pork</td>\n",
              "      <td>2018-11-13T01:00:00.000+02:00</td>\n",
              "      <td>0</td>\n",
              "      <td>0</td>\n",
              "      <td>news</td>\n",
              "      <td>pig333.com</td>\n",
              "      <td>ES</td>\n",
              "      <td>0</td>\n",
              "      <td>4</td>\n",
              "    </tr>\n",
              "    <tr>\n",
              "      <th>1</th>\n",
              "      <td>Visit TutsGalaxy.com for tutorials &amp; free cour...</td>\n",
              "      <td>NaN</td>\n",
              "      <td>NaN</td>\n",
              "      <td>http://omgili.com/ri/.wHSUbtEfZRDcqHtpKs66rN2v...</td>\n",
              "      <td>Ant Download Manager Pro 1.10.2 Build 54254 + ...</td>\n",
              "      <td>http://www.limetorrents.cc/rss/</td>\n",
              "      <td>LimeTorrents.info - RSS Feed</td>\n",
              "      <td>2018-11-13T16:47:00.000+02:00</td>\n",
              "      <td>0</td>\n",
              "      <td>0</td>\n",
              "      <td>blogs</td>\n",
              "      <td>limetorrents.info</td>\n",
              "      <td>CC</td>\n",
              "      <td>0</td>\n",
              "      <td>2</td>\n",
              "    </tr>\n",
              "    <tr>\n",
              "      <th>2</th>\n",
              "      <td>I'm so sorry you had to witness this</td>\n",
              "      <td>NaN</td>\n",
              "      <td>NaN</td>\n",
              "      <td>http://omgili.com/ri/_0JOtn.4SCoF5VTZjCccpVxqD...</td>\n",
              "      <td>.</td>\n",
              "      <td>http://boards.4chan.org/int/</td>\n",
              "      <td>/int/ - International - 4chan</td>\n",
              "      <td>2018-11-13T16:52:00.000+02:00</td>\n",
              "      <td>140</td>\n",
              "      <td>1</td>\n",
              "      <td>discussions</td>\n",
              "      <td>4chan.org</td>\n",
              "      <td>US</td>\n",
              "      <td>0</td>\n",
              "      <td>1</td>\n",
              "    </tr>\n",
              "    <tr>\n",
              "      <th>3</th>\n",
              "      <td>yikers&amp;cringers</td>\n",
              "      <td>NaN</td>\n",
              "      <td>NaN</td>\n",
              "      <td>http://omgili.com/ri/_0JOtn.4SCoF5VTZjCccpVxqD...</td>\n",
              "      <td>.</td>\n",
              "      <td>http://boards.4chan.org/int/</td>\n",
              "      <td>/int/ - International - 4chan</td>\n",
              "      <td>2018-11-13T16:52:00.000+02:00</td>\n",
              "      <td>140</td>\n",
              "      <td>1</td>\n",
              "      <td>discussions</td>\n",
              "      <td>4chan.org</td>\n",
              "      <td>US</td>\n",
              "      <td>0</td>\n",
              "      <td>0</td>\n",
              "    </tr>\n",
              "    <tr>\n",
              "      <th>4</th>\n",
              "      <td>Home / Music / shiv bhola bhala gora beth bole...</td>\n",
              "      <td>http://data-vocabulary.org/Breadcrumb , http:/...</td>\n",
              "      <td>NaN</td>\n",
              "      <td>http://omgili.com/ri/2wGaacqxApv27k8wLB.qKT5en...</td>\n",
              "      <td>Shiv Bhola Bhala Gora Beth Bolero Mein Shiv Bhole</td>\n",
              "      <td>http://musik.axom.in/feed</td>\n",
              "      <td>Download Free Audio mp3 songs | musika.axom.in</td>\n",
              "      <td>2018-11-13T18:53:00.000+02:00</td>\n",
              "      <td>0</td>\n",
              "      <td>0</td>\n",
              "      <td>news</td>\n",
              "      <td>axom.in</td>\n",
              "      <td>IN</td>\n",
              "      <td>0</td>\n",
              "      <td>2</td>\n",
              "    </tr>\n",
              "    <tr>\n",
              "      <th>...</th>\n",
              "      <td>...</td>\n",
              "      <td>...</td>\n",
              "      <td>...</td>\n",
              "      <td>...</td>\n",
              "      <td>...</td>\n",
              "      <td>...</td>\n",
              "      <td>...</td>\n",
              "      <td>...</td>\n",
              "      <td>...</td>\n",
              "      <td>...</td>\n",
              "      <td>...</td>\n",
              "      <td>...</td>\n",
              "      <td>...</td>\n",
              "      <td>...</td>\n",
              "      <td>...</td>\n",
              "    </tr>\n",
              "    <tr>\n",
              "      <th>95</th>\n",
              "      <td>Ksenia Bogdanova</td>\n",
              "      <td>NaN</td>\n",
              "      <td>NaN</td>\n",
              "      <td>http://omgili.com/ri/.wHSUbtEfZQApyRnPnOVUtpxo...</td>\n",
              "      <td>Ksenia Bogdanova</td>\n",
              "      <td>https://vk.com/ksenkamilasha</td>\n",
              "      <td>Ksenia Bogdanova</td>\n",
              "      <td>2018-11-13T17:52:00.000+02:00</td>\n",
              "      <td>1</td>\n",
              "      <td>2</td>\n",
              "      <td>discussions</td>\n",
              "      <td>vk.com</td>\n",
              "      <td>RU</td>\n",
              "      <td>0</td>\n",
              "      <td>0</td>\n",
              "    </tr>\n",
              "    <tr>\n",
              "      <th>96</th>\n",
              "      <td>Красота</td>\n",
              "      <td>NaN</td>\n",
              "      <td>NaN</td>\n",
              "      <td>http://omgili.com/ri/.wHSUbtEfZQApyRnPnOVUtpxo...</td>\n",
              "      <td>Ksenia Bogdanova</td>\n",
              "      <td>https://vk.com/ksenkamilasha</td>\n",
              "      <td>Ksenia Bogdanova</td>\n",
              "      <td>2018-11-13T17:52:00.000+02:00</td>\n",
              "      <td>1</td>\n",
              "      <td>2</td>\n",
              "      <td>discussions</td>\n",
              "      <td>vk.com</td>\n",
              "      <td>RU</td>\n",
              "      <td>0</td>\n",
              "      <td>0</td>\n",
              "    </tr>\n",
              "    <tr>\n",
              "      <th>97</th>\n",
              "      <td>Just put the rod about half way between top of...</td>\n",
              "      <td>NaN</td>\n",
              "      <td>NaN</td>\n",
              "      <td>http://omgili.com/ri/.wHSUbtEfZQKJDIEtQgTouLH2...</td>\n",
              "      <td>Bay Window Drapes</td>\n",
              "      <td>https://www.houzz.com/discussions/p/360</td>\n",
              "      <td>Join Home &amp;amp; Garden Discussions on Houzz</td>\n",
              "      <td>2018-11-12T03:01:00.000+02:00</td>\n",
              "      <td>17</td>\n",
              "      <td>8</td>\n",
              "      <td>discussions</td>\n",
              "      <td>houzz.com</td>\n",
              "      <td>US</td>\n",
              "      <td>0</td>\n",
              "      <td>0</td>\n",
              "    </tr>\n",
              "    <tr>\n",
              "      <th>98</th>\n",
              "      <td>I just got my Lenovo Smart Display yesterday a...</td>\n",
              "      <td>NaN</td>\n",
              "      <td>NaN</td>\n",
              "      <td>http://omgili.com/ri/.wHSUbtEfZQ2F8au4ugZad_J4...</td>\n",
              "      <td>Lenovo Smart Display isn't playing YouTube TV</td>\n",
              "      <td>https://www.reddit.com/r/googlehome</td>\n",
              "      <td>Everything Google Home</td>\n",
              "      <td>2018-11-13T15:18:00.000+02:00</td>\n",
              "      <td>2</td>\n",
              "      <td>1</td>\n",
              "      <td>discussions</td>\n",
              "      <td>reddit.com</td>\n",
              "      <td>US</td>\n",
              "      <td>0</td>\n",
              "      <td>0</td>\n",
              "    </tr>\n",
              "    <tr>\n",
              "      <th>99</th>\n",
              "      <td>Here is the image I am getting: https://imgur....</td>\n",
              "      <td>https://imgur.com/QrzdtjY ,</td>\n",
              "      <td>NaN</td>\n",
              "      <td>http://omgili.com/ri/.wHSUbtEfZQ2F8au4ugZad_J4...</td>\n",
              "      <td>Lenovo Smart Display isn't playing YouTube TV</td>\n",
              "      <td>https://www.reddit.com/r/googlehome</td>\n",
              "      <td>Everything Google Home</td>\n",
              "      <td>2018-11-13T15:18:00.000+02:00</td>\n",
              "      <td>2</td>\n",
              "      <td>1</td>\n",
              "      <td>discussions</td>\n",
              "      <td>reddit.com</td>\n",
              "      <td>US</td>\n",
              "      <td>0</td>\n",
              "      <td>0</td>\n",
              "    </tr>\n",
              "  </tbody>\n",
              "</table>\n",
              "<p>100 rows × 15 columns</p>\n",
              "</div>"
            ],
            "text/plain": [
              "                                                 Text  ... Topic\n",
              "0   follow 2 Like\\nIn previous articles we reviewe...  ...     4\n",
              "1   Visit TutsGalaxy.com for tutorials & free cour...  ...     2\n",
              "2                I'm so sorry you had to witness this  ...     1\n",
              "3                                     yikers&cringers  ...     0\n",
              "4   Home / Music / shiv bhola bhala gora beth bole...  ...     2\n",
              "..                                                ...  ...   ...\n",
              "95                                   Ksenia Bogdanova  ...     0\n",
              "96                                            Красота  ...     0\n",
              "97  Just put the rod about half way between top of...  ...     0\n",
              "98  I just got my Lenovo Smart Display yesterday a...  ...     0\n",
              "99  Here is the image I am getting: https://imgur....  ...     0\n",
              "\n",
              "[100 rows x 15 columns]"
            ]
          },
          "metadata": {
            "tags": []
          },
          "execution_count": 38
        }
      ]
    }
  ]
}