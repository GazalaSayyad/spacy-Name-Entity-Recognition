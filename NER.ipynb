{
  "nbformat": 4,
  "nbformat_minor": 0,
  "metadata": {
    "colab": {
      "name": "NER.ipynb",
      "provenance": [],
      "collapsed_sections": [],
      "authorship_tag": "ABX9TyO+d6gc7kh20C6Z+svAWYRD",
      "include_colab_link": true
    },
    "kernelspec": {
      "name": "python3",
      "display_name": "Python 3"
    }
  },
  "cells": [
    {
      "cell_type": "markdown",
      "metadata": {
        "id": "view-in-github",
        "colab_type": "text"
      },
      "source": [
        "<a href=\"https://colab.research.google.com/github/GazalaSayyad/spacy-Name-Entity-Recognition/blob/master/NER.ipynb\" target=\"_parent\"><img src=\"https://colab.research.google.com/assets/colab-badge.svg\" alt=\"Open In Colab\"/></a>"
      ]
    },
    {
      "cell_type": "code",
      "metadata": {
        "id": "Zi0GciLa3Gcx",
        "colab_type": "code",
        "colab": {}
      },
      "source": [
        "import pandas as pd"
      ],
      "execution_count": 0,
      "outputs": []
    },
    {
      "cell_type": "code",
      "metadata": {
        "id": "WROQJ2YT3Sg2",
        "colab_type": "code",
        "colab": {}
      },
      "source": [
        "data = pd.read_excel('newsData.xls')"
      ],
      "execution_count": 0,
      "outputs": []
    },
    {
      "cell_type": "code",
      "metadata": {
        "id": "9eeqYN7E3w84",
        "colab_type": "code",
        "colab": {}
      },
      "source": [
        "to_drop = ['Mentioned Persons (positive)',\n",
        "           'Mentioned Persons (negative)',\n",
        "           'Mentioned Persons (neutral)',\n",
        "           'Mentioned Persons (none)',\n",
        "           'Mentioned Organizations (positive)',\n",
        "           'Mentioned Organizations (negative)',\n",
        "           'Mentioned Organizations (neutral)',\n",
        "           'Mentioned Organizations (none)']\n",
        "           \n",
        "data.drop(to_drop, inplace=True, axis=1)"
      ],
      "execution_count": 0,
      "outputs": []
    },
    {
      "cell_type": "code",
      "metadata": {
        "id": "MGjhuVEPRWXL",
        "colab_type": "code",
        "outputId": "ba605626-fb78-4e59-9fc6-b6041a50dab5",
        "colab": {
          "base_uri": "https://localhost:8080/",
          "height": 997
        }
      },
      "source": [
        "data"
      ],
      "execution_count": 0,
      "outputs": [
        {
          "output_type": "execute_result",
          "data": {
            "text/html": [
              "<div>\n",
              "<style scoped>\n",
              "    .dataframe tbody tr th:only-of-type {\n",
              "        vertical-align: middle;\n",
              "    }\n",
              "\n",
              "    .dataframe tbody tr th {\n",
              "        vertical-align: top;\n",
              "    }\n",
              "\n",
              "    .dataframe thead th {\n",
              "        text-align: right;\n",
              "    }\n",
              "</style>\n",
              "<table border=\"1\" class=\"dataframe\">\n",
              "  <thead>\n",
              "    <tr style=\"text-align: right;\">\n",
              "      <th></th>\n",
              "      <th>Post Link</th>\n",
              "      <th>Post Order in Thread</th>\n",
              "      <th>Author</th>\n",
              "      <th>Post Publication Date</th>\n",
              "      <th>Title</th>\n",
              "      <th>Text</th>\n",
              "      <th>Language</th>\n",
              "      <th>External Links</th>\n",
              "      <th>Mentioned Locations</th>\n",
              "      <th>Thread Link</th>\n",
              "      <th>Title.1</th>\n",
              "      <th>Section Link</th>\n",
              "      <th>Section Title</th>\n",
              "      <th>Thread Publication Date</th>\n",
              "      <th>Comments Count</th>\n",
              "      <th>Participants Count</th>\n",
              "      <th>Site Type</th>\n",
              "      <th>Site Name</th>\n",
              "      <th>Site Country</th>\n",
              "      <th>Main Image</th>\n",
              "      <th>Performance Score</th>\n",
              "      <th>Rating</th>\n",
              "    </tr>\n",
              "  </thead>\n",
              "  <tbody>\n",
              "    <tr>\n",
              "      <th>0</th>\n",
              "      <td>http://omgili.com/ri/.wHSUbtEfZSbaqzVQLqf6K5IO...</td>\n",
              "      <td>0</td>\n",
              "      <td>NaN</td>\n",
              "      <td>2018-11-13T01:00:00.000+02:00</td>\n",
              "      <td>PRRSV surveillance. How we could track PRRS co...</td>\n",
              "      <td>follow 2 Like\\nIn previous articles we reviewe...</td>\n",
              "      <td>english</td>\n",
              "      <td>NaN</td>\n",
              "      <td>china , north america , germany , spain ,</td>\n",
              "      <td>http://omgili.com/ri/.wHSUbtEfZSbaqzVQLqf6K5IO...</td>\n",
              "      <td>PRRSV surveillance. How we could track PRRS co...</td>\n",
              "      <td>https://www.pig333.com/rss/home</td>\n",
              "      <td>Pig to pork</td>\n",
              "      <td>2018-11-13T01:00:00.000+02:00</td>\n",
              "      <td>0</td>\n",
              "      <td>0</td>\n",
              "      <td>news</td>\n",
              "      <td>pig333.com</td>\n",
              "      <td>ES</td>\n",
              "      <td>https://www.pig333.com/3tres3_common/art/pig33...</td>\n",
              "      <td>0</td>\n",
              "      <td>NaN</td>\n",
              "    </tr>\n",
              "    <tr>\n",
              "      <th>1</th>\n",
              "      <td>http://omgili.com/ri/.wHSUbtEfZRDcqHtpKs66rN2v...</td>\n",
              "      <td>0</td>\n",
              "      <td>NaN</td>\n",
              "      <td>2018-11-13T16:47:00.000+02:00</td>\n",
              "      <td>Ant Download Manager Pro 1.10.2 Build 54254 + ...</td>\n",
              "      <td>Visit TutsGalaxy.com for tutorials &amp; free cour...</td>\n",
              "      <td>english</td>\n",
              "      <td>NaN</td>\n",
              "      <td>NaN</td>\n",
              "      <td>http://omgili.com/ri/.wHSUbtEfZRDcqHtpKs66rN2v...</td>\n",
              "      <td>Ant Download Manager Pro 1.10.2 Build 54254 + ...</td>\n",
              "      <td>http://www.limetorrents.cc/rss/</td>\n",
              "      <td>LimeTorrents.info - RSS Feed</td>\n",
              "      <td>2018-11-13T16:47:00.000+02:00</td>\n",
              "      <td>0</td>\n",
              "      <td>0</td>\n",
              "      <td>blogs</td>\n",
              "      <td>limetorrents.info</td>\n",
              "      <td>CC</td>\n",
              "      <td>NaN</td>\n",
              "      <td>0</td>\n",
              "      <td>NaN</td>\n",
              "    </tr>\n",
              "    <tr>\n",
              "      <th>2</th>\n",
              "      <td>http://omgili.com/ri/_0JOtn.4SCoF5VTZjCccpVxqD...</td>\n",
              "      <td>13</td>\n",
              "      <td>Anonymous</td>\n",
              "      <td>2018-11-13T17:20:00.000+02:00</td>\n",
              "      <td>NaN</td>\n",
              "      <td>I'm so sorry you had to witness this</td>\n",
              "      <td>english</td>\n",
              "      <td>NaN</td>\n",
              "      <td>NaN</td>\n",
              "      <td>http://omgili.com/ri/_0JOtn.4SCoF5VTZjCccpVxqD...</td>\n",
              "      <td>.</td>\n",
              "      <td>http://boards.4chan.org/int/</td>\n",
              "      <td>/int/ - International - 4chan</td>\n",
              "      <td>2018-11-13T16:52:00.000+02:00</td>\n",
              "      <td>140</td>\n",
              "      <td>1</td>\n",
              "      <td>discussions</td>\n",
              "      <td>4chan.org</td>\n",
              "      <td>US</td>\n",
              "      <td>NaN</td>\n",
              "      <td>0</td>\n",
              "      <td>NaN</td>\n",
              "    </tr>\n",
              "    <tr>\n",
              "      <th>3</th>\n",
              "      <td>http://omgili.com/ri/_0JOtn.4SCoF5VTZjCccpVxqD...</td>\n",
              "      <td>15</td>\n",
              "      <td>Anonymous</td>\n",
              "      <td>2018-11-13T17:31:00.000+02:00</td>\n",
              "      <td>NaN</td>\n",
              "      <td>yikers&amp;cringers</td>\n",
              "      <td>english</td>\n",
              "      <td>NaN</td>\n",
              "      <td>NaN</td>\n",
              "      <td>http://omgili.com/ri/_0JOtn.4SCoF5VTZjCccpVxqD...</td>\n",
              "      <td>.</td>\n",
              "      <td>http://boards.4chan.org/int/</td>\n",
              "      <td>/int/ - International - 4chan</td>\n",
              "      <td>2018-11-13T16:52:00.000+02:00</td>\n",
              "      <td>140</td>\n",
              "      <td>1</td>\n",
              "      <td>discussions</td>\n",
              "      <td>4chan.org</td>\n",
              "      <td>US</td>\n",
              "      <td>NaN</td>\n",
              "      <td>0</td>\n",
              "      <td>NaN</td>\n",
              "    </tr>\n",
              "    <tr>\n",
              "      <th>4</th>\n",
              "      <td>http://omgili.com/ri/2wGaacqxApv27k8wLB.qKT5en...</td>\n",
              "      <td>0</td>\n",
              "      <td>NaN</td>\n",
              "      <td>2018-11-13T18:53:00.000+02:00</td>\n",
              "      <td>Shiv Bhola Bhala Gora Beth Bolero Mein Shiv Bhole</td>\n",
              "      <td>Home / Music / shiv bhola bhala gora beth bole...</td>\n",
              "      <td>english</td>\n",
              "      <td>http://data-vocabulary.org/Breadcrumb , http:/...</td>\n",
              "      <td>NaN</td>\n",
              "      <td>http://omgili.com/ri/2wGaacqxApv27k8wLB.qKT5en...</td>\n",
              "      <td>Shiv Bhola Bhala Gora Beth Bolero Mein Shiv Bhole</td>\n",
              "      <td>http://musik.axom.in/feed</td>\n",
              "      <td>Download Free Audio mp3 songs | musika.axom.in</td>\n",
              "      <td>2018-11-13T18:53:00.000+02:00</td>\n",
              "      <td>0</td>\n",
              "      <td>0</td>\n",
              "      <td>news</td>\n",
              "      <td>axom.in</td>\n",
              "      <td>IN</td>\n",
              "      <td>http://musik.axom.in/images/mp3-songs-download...</td>\n",
              "      <td>0</td>\n",
              "      <td>NaN</td>\n",
              "    </tr>\n",
              "    <tr>\n",
              "      <th>...</th>\n",
              "      <td>...</td>\n",
              "      <td>...</td>\n",
              "      <td>...</td>\n",
              "      <td>...</td>\n",
              "      <td>...</td>\n",
              "      <td>...</td>\n",
              "      <td>...</td>\n",
              "      <td>...</td>\n",
              "      <td>...</td>\n",
              "      <td>...</td>\n",
              "      <td>...</td>\n",
              "      <td>...</td>\n",
              "      <td>...</td>\n",
              "      <td>...</td>\n",
              "      <td>...</td>\n",
              "      <td>...</td>\n",
              "      <td>...</td>\n",
              "      <td>...</td>\n",
              "      <td>...</td>\n",
              "      <td>...</td>\n",
              "      <td>...</td>\n",
              "      <td>...</td>\n",
              "    </tr>\n",
              "    <tr>\n",
              "      <th>95</th>\n",
              "      <td>http://omgili.com/ri/.wHSUbtEfZQApyRnPnOVUtpxo...</td>\n",
              "      <td>0</td>\n",
              "      <td>Ksenia Bogdanova</td>\n",
              "      <td>2018-11-13T17:52:00.000+02:00</td>\n",
              "      <td>Ksenia Bogdanova</td>\n",
              "      <td>Ksenia Bogdanova</td>\n",
              "      <td>english</td>\n",
              "      <td>NaN</td>\n",
              "      <td>NaN</td>\n",
              "      <td>http://omgili.com/ri/.wHSUbtEfZQApyRnPnOVUtpxo...</td>\n",
              "      <td>Ksenia Bogdanova</td>\n",
              "      <td>https://vk.com/ksenkamilasha</td>\n",
              "      <td>Ksenia Bogdanova</td>\n",
              "      <td>2018-11-13T17:52:00.000+02:00</td>\n",
              "      <td>1</td>\n",
              "      <td>2</td>\n",
              "      <td>discussions</td>\n",
              "      <td>vk.com</td>\n",
              "      <td>RU</td>\n",
              "      <td>NaN</td>\n",
              "      <td>0</td>\n",
              "      <td>NaN</td>\n",
              "    </tr>\n",
              "    <tr>\n",
              "      <th>96</th>\n",
              "      <td>http://omgili.com/ri/.wHSUbtEfZQApyRnPnOVUtpxo...</td>\n",
              "      <td>1</td>\n",
              "      <td>Maria Skorobogataya</td>\n",
              "      <td>2018-11-13T19:00:00.000+02:00</td>\n",
              "      <td>NaN</td>\n",
              "      <td>Красота</td>\n",
              "      <td>english</td>\n",
              "      <td>NaN</td>\n",
              "      <td>NaN</td>\n",
              "      <td>http://omgili.com/ri/.wHSUbtEfZQApyRnPnOVUtpxo...</td>\n",
              "      <td>Ksenia Bogdanova</td>\n",
              "      <td>https://vk.com/ksenkamilasha</td>\n",
              "      <td>Ksenia Bogdanova</td>\n",
              "      <td>2018-11-13T17:52:00.000+02:00</td>\n",
              "      <td>1</td>\n",
              "      <td>2</td>\n",
              "      <td>discussions</td>\n",
              "      <td>vk.com</td>\n",
              "      <td>RU</td>\n",
              "      <td>NaN</td>\n",
              "      <td>0</td>\n",
              "      <td>NaN</td>\n",
              "    </tr>\n",
              "    <tr>\n",
              "      <th>97</th>\n",
              "      <td>http://omgili.com/ri/.wHSUbtEfZQKJDIEtQgTouLH2...</td>\n",
              "      <td>14</td>\n",
              "      <td>Angel 18432</td>\n",
              "      <td>2018-11-13T05:01:00.000+02:00</td>\n",
              "      <td>NaN</td>\n",
              "      <td>Just put the rod about half way between top of...</td>\n",
              "      <td>english</td>\n",
              "      <td>NaN</td>\n",
              "      <td>NaN</td>\n",
              "      <td>http://omgili.com/ri/.wHSUbtEfZQKJDIEtQgTouLH2...</td>\n",
              "      <td>Bay Window Drapes</td>\n",
              "      <td>https://www.houzz.com/discussions/p/360</td>\n",
              "      <td>Join Home &amp;amp; Garden Discussions on Houzz</td>\n",
              "      <td>2018-11-12T03:01:00.000+02:00</td>\n",
              "      <td>17</td>\n",
              "      <td>8</td>\n",
              "      <td>discussions</td>\n",
              "      <td>houzz.com</td>\n",
              "      <td>US</td>\n",
              "      <td>https://st.hzcdn.com/res/2905/pic/genericQuest...</td>\n",
              "      <td>0</td>\n",
              "      <td>NaN</td>\n",
              "    </tr>\n",
              "    <tr>\n",
              "      <th>98</th>\n",
              "      <td>http://omgili.com/ri/.wHSUbtEfZQ2F8au4ugZad_J4...</td>\n",
              "      <td>0</td>\n",
              "      <td>amcfarla</td>\n",
              "      <td>2018-11-13T15:18:00.000+02:00</td>\n",
              "      <td>Lenovo Smart Display isn't playing YouTube TV</td>\n",
              "      <td>I just got my Lenovo Smart Display yesterday a...</td>\n",
              "      <td>english</td>\n",
              "      <td>NaN</td>\n",
              "      <td>NaN</td>\n",
              "      <td>http://omgili.com/ri/.wHSUbtEfZQ2F8au4ugZad_J4...</td>\n",
              "      <td>Lenovo Smart Display isn't playing YouTube TV</td>\n",
              "      <td>https://www.reddit.com/r/googlehome</td>\n",
              "      <td>Everything Google Home</td>\n",
              "      <td>2018-11-13T15:18:00.000+02:00</td>\n",
              "      <td>2</td>\n",
              "      <td>1</td>\n",
              "      <td>discussions</td>\n",
              "      <td>reddit.com</td>\n",
              "      <td>US</td>\n",
              "      <td>NaN</td>\n",
              "      <td>0</td>\n",
              "      <td>NaN</td>\n",
              "    </tr>\n",
              "    <tr>\n",
              "      <th>99</th>\n",
              "      <td>http://omgili.com/ri/.wHSUbtEfZQ2F8au4ugZad_J4...</td>\n",
              "      <td>1</td>\n",
              "      <td>amcfarla</td>\n",
              "      <td>2018-11-13T15:19:00.000+02:00</td>\n",
              "      <td>NaN</td>\n",
              "      <td>Here is the image I am getting: https://imgur....</td>\n",
              "      <td>english</td>\n",
              "      <td>https://imgur.com/QrzdtjY ,</td>\n",
              "      <td>NaN</td>\n",
              "      <td>http://omgili.com/ri/.wHSUbtEfZQ2F8au4ugZad_J4...</td>\n",
              "      <td>Lenovo Smart Display isn't playing YouTube TV</td>\n",
              "      <td>https://www.reddit.com/r/googlehome</td>\n",
              "      <td>Everything Google Home</td>\n",
              "      <td>2018-11-13T15:18:00.000+02:00</td>\n",
              "      <td>2</td>\n",
              "      <td>1</td>\n",
              "      <td>discussions</td>\n",
              "      <td>reddit.com</td>\n",
              "      <td>US</td>\n",
              "      <td>NaN</td>\n",
              "      <td>0</td>\n",
              "      <td>NaN</td>\n",
              "    </tr>\n",
              "  </tbody>\n",
              "</table>\n",
              "<p>100 rows × 22 columns</p>\n",
              "</div>"
            ],
            "text/plain": [
              "                                            Post Link  ...  Rating\n",
              "0   http://omgili.com/ri/.wHSUbtEfZSbaqzVQLqf6K5IO...  ...     NaN\n",
              "1   http://omgili.com/ri/.wHSUbtEfZRDcqHtpKs66rN2v...  ...     NaN\n",
              "2   http://omgili.com/ri/_0JOtn.4SCoF5VTZjCccpVxqD...  ...     NaN\n",
              "3   http://omgili.com/ri/_0JOtn.4SCoF5VTZjCccpVxqD...  ...     NaN\n",
              "4   http://omgili.com/ri/2wGaacqxApv27k8wLB.qKT5en...  ...     NaN\n",
              "..                                                ...  ...     ...\n",
              "95  http://omgili.com/ri/.wHSUbtEfZQApyRnPnOVUtpxo...  ...     NaN\n",
              "96  http://omgili.com/ri/.wHSUbtEfZQApyRnPnOVUtpxo...  ...     NaN\n",
              "97  http://omgili.com/ri/.wHSUbtEfZQKJDIEtQgTouLH2...  ...     NaN\n",
              "98  http://omgili.com/ri/.wHSUbtEfZQ2F8au4ugZad_J4...  ...     NaN\n",
              "99  http://omgili.com/ri/.wHSUbtEfZQ2F8au4ugZad_J4...  ...     NaN\n",
              "\n",
              "[100 rows x 22 columns]"
            ]
          },
          "metadata": {
            "tags": []
          },
          "execution_count": 96
        }
      ]
    },
    {
      "cell_type": "code",
      "metadata": {
        "id": "sYT2cQg3QOnJ",
        "colab_type": "code",
        "colab": {}
      },
      "source": [
        "import spacy\n",
        "import numpy as np\n",
        "nlp = spacy.load('en')"
      ],
      "execution_count": 0,
      "outputs": []
    },
    {
      "cell_type": "code",
      "metadata": {
        "id": "2xJjMDKNQX9O",
        "colab_type": "code",
        "outputId": "1fa7399e-d2a8-402f-b5ef-03f15a56d7fa",
        "colab": {
          "base_uri": "https://localhost:8080/",
          "height": 126
        }
      },
      "source": [
        "data[\"Title\"].head()"
      ],
      "execution_count": 0,
      "outputs": [
        {
          "output_type": "execute_result",
          "data": {
            "text/plain": [
              "0    PRRSV surveillance. How we could track PRRS co...\n",
              "1    Ant Download Manager Pro 1.10.2 Build 54254 + ...\n",
              "2                                                  NaN\n",
              "3                                                  NaN\n",
              "4    Shiv Bhola Bhala Gora Beth Bolero Mein Shiv Bhole\n",
              "Name: Title, dtype: object"
            ]
          },
          "metadata": {
            "tags": []
          },
          "execution_count": 74
        }
      ]
    },
    {
      "cell_type": "code",
      "metadata": {
        "id": "nA2NNEqOSD50",
        "colab_type": "code",
        "outputId": "5c540e60-77b7-4489-d20f-9f0d64e38f41",
        "colab": {
          "base_uri": "https://localhost:8080/",
          "height": 35
        }
      },
      "source": [
        "txt = data[\"Title\"][10]\n",
        "txt"
      ],
      "execution_count": 0,
      "outputs": [
        {
          "output_type": "execute_result",
          "data": {
            "text/plain": [
              "'J.River Media Center 24.0.60 + patch'"
            ]
          },
          "metadata": {
            "tags": []
          },
          "execution_count": 75
        }
      ]
    },
    {
      "cell_type": "code",
      "metadata": {
        "id": "ETAXpflOQr4W",
        "colab_type": "code",
        "outputId": "20794eef-0f1e-48b8-9a74-462e5a985fa5",
        "colab": {
          "base_uri": "https://localhost:8080/",
          "height": 228
        }
      },
      "source": [
        "doc = nlp(txt)    \n",
        "olist = []\n",
        "for token in doc:\n",
        "    l = [token.text,\n",
        "        token.idx,\n",
        "        token.lemma_,\n",
        "        token.is_punct,\n",
        "        token.is_space,\n",
        "        token.shape_,\n",
        "        token.pos_,\n",
        "        token.tag_]\n",
        "    olist.append(l)\n",
        "    \n",
        "odf = pd.DataFrame(olist)\n",
        "odf.columns= [\"Text\", \"StartIndex\", \"Lemma\", \"IsPunctuation\", \"IsSpace\", \"WordShape\", \"PartOfSpeech\", \"POSTag\"]\n",
        "odf"
      ],
      "execution_count": 0,
      "outputs": [
        {
          "output_type": "execute_result",
          "data": {
            "text/html": [
              "<div>\n",
              "<style scoped>\n",
              "    .dataframe tbody tr th:only-of-type {\n",
              "        vertical-align: middle;\n",
              "    }\n",
              "\n",
              "    .dataframe tbody tr th {\n",
              "        vertical-align: top;\n",
              "    }\n",
              "\n",
              "    .dataframe thead th {\n",
              "        text-align: right;\n",
              "    }\n",
              "</style>\n",
              "<table border=\"1\" class=\"dataframe\">\n",
              "  <thead>\n",
              "    <tr style=\"text-align: right;\">\n",
              "      <th></th>\n",
              "      <th>Text</th>\n",
              "      <th>StartIndex</th>\n",
              "      <th>Lemma</th>\n",
              "      <th>IsPunctuation</th>\n",
              "      <th>IsSpace</th>\n",
              "      <th>WordShape</th>\n",
              "      <th>PartOfSpeech</th>\n",
              "      <th>POSTag</th>\n",
              "    </tr>\n",
              "  </thead>\n",
              "  <tbody>\n",
              "    <tr>\n",
              "      <th>0</th>\n",
              "      <td>J.River</td>\n",
              "      <td>0</td>\n",
              "      <td>J.River</td>\n",
              "      <td>False</td>\n",
              "      <td>False</td>\n",
              "      <td>X.Xxxxx</td>\n",
              "      <td>PROPN</td>\n",
              "      <td>NNP</td>\n",
              "    </tr>\n",
              "    <tr>\n",
              "      <th>1</th>\n",
              "      <td>Media</td>\n",
              "      <td>8</td>\n",
              "      <td>Media</td>\n",
              "      <td>False</td>\n",
              "      <td>False</td>\n",
              "      <td>Xxxxx</td>\n",
              "      <td>PROPN</td>\n",
              "      <td>NNP</td>\n",
              "    </tr>\n",
              "    <tr>\n",
              "      <th>2</th>\n",
              "      <td>Center</td>\n",
              "      <td>14</td>\n",
              "      <td>Center</td>\n",
              "      <td>False</td>\n",
              "      <td>False</td>\n",
              "      <td>Xxxxx</td>\n",
              "      <td>PROPN</td>\n",
              "      <td>NNP</td>\n",
              "    </tr>\n",
              "    <tr>\n",
              "      <th>3</th>\n",
              "      <td>24.0.60</td>\n",
              "      <td>21</td>\n",
              "      <td>24.0.60</td>\n",
              "      <td>False</td>\n",
              "      <td>False</td>\n",
              "      <td>dd.d.dd</td>\n",
              "      <td>NOUN</td>\n",
              "      <td>NN</td>\n",
              "    </tr>\n",
              "    <tr>\n",
              "      <th>4</th>\n",
              "      <td>+</td>\n",
              "      <td>29</td>\n",
              "      <td>+</td>\n",
              "      <td>False</td>\n",
              "      <td>False</td>\n",
              "      <td>+</td>\n",
              "      <td>CCONJ</td>\n",
              "      <td>CC</td>\n",
              "    </tr>\n",
              "    <tr>\n",
              "      <th>5</th>\n",
              "      <td>patch</td>\n",
              "      <td>31</td>\n",
              "      <td>patch</td>\n",
              "      <td>False</td>\n",
              "      <td>False</td>\n",
              "      <td>xxxx</td>\n",
              "      <td>NOUN</td>\n",
              "      <td>NN</td>\n",
              "    </tr>\n",
              "  </tbody>\n",
              "</table>\n",
              "</div>"
            ],
            "text/plain": [
              "      Text  StartIndex    Lemma  ...  WordShape  PartOfSpeech POSTag\n",
              "0  J.River           0  J.River  ...    X.Xxxxx         PROPN    NNP\n",
              "1    Media           8    Media  ...      Xxxxx         PROPN    NNP\n",
              "2   Center          14   Center  ...      Xxxxx         PROPN    NNP\n",
              "3  24.0.60          21  24.0.60  ...    dd.d.dd          NOUN     NN\n",
              "4        +          29        +  ...          +         CCONJ     CC\n",
              "5    patch          31    patch  ...       xxxx          NOUN     NN\n",
              "\n",
              "[6 rows x 8 columns]"
            ]
          },
          "metadata": {
            "tags": []
          },
          "execution_count": 34
        }
      ]
    },
    {
      "cell_type": "code",
      "metadata": {
        "id": "z20_6G9SbudL",
        "colab_type": "code",
        "outputId": "42d9645e-5545-49b6-8107-61ebaf535e64",
        "colab": {
          "base_uri": "https://localhost:8080/",
          "height": 78
        }
      },
      "source": [
        "doc = nlp(txt)\n",
        "olist = []\n",
        "for ent in doc.ents:\n",
        "    olist.append([ent.text, ent.label_])\n",
        "    \n",
        "odf = pd.DataFrame(olist)\n",
        "odf.columns = [\"Text\", \"EntityType\"]\n",
        "odf"
      ],
      "execution_count": 0,
      "outputs": [
        {
          "output_type": "execute_result",
          "data": {
            "text/html": [
              "<div>\n",
              "<style scoped>\n",
              "    .dataframe tbody tr th:only-of-type {\n",
              "        vertical-align: middle;\n",
              "    }\n",
              "\n",
              "    .dataframe tbody tr th {\n",
              "        vertical-align: top;\n",
              "    }\n",
              "\n",
              "    .dataframe thead th {\n",
              "        text-align: right;\n",
              "    }\n",
              "</style>\n",
              "<table border=\"1\" class=\"dataframe\">\n",
              "  <thead>\n",
              "    <tr style=\"text-align: right;\">\n",
              "      <th></th>\n",
              "      <th>Text</th>\n",
              "      <th>EntityType</th>\n",
              "    </tr>\n",
              "  </thead>\n",
              "  <tbody>\n",
              "    <tr>\n",
              "      <th>0</th>\n",
              "      <td>Media Center</td>\n",
              "      <td>ORG</td>\n",
              "    </tr>\n",
              "  </tbody>\n",
              "</table>\n",
              "</div>"
            ],
            "text/plain": [
              "           Text EntityType\n",
              "0  Media Center        ORG"
            ]
          },
          "metadata": {
            "tags": []
          },
          "execution_count": 76
        }
      ]
    },
    {
      "cell_type": "code",
      "metadata": {
        "id": "CMU3WPi2bzp3",
        "colab_type": "code",
        "outputId": "2eff7bd6-bd7c-4ab1-ce98-a3ab42948e18",
        "colab": {
          "base_uri": "https://localhost:8080/",
          "height": 52
        }
      },
      "source": [
        "from spacy import displacy\n",
        "displacy.render(doc, style='ent', jupyter=True)"
      ],
      "execution_count": 0,
      "outputs": [
        {
          "output_type": "display_data",
          "data": {
            "text/html": [
              "<span class=\"tex2jax_ignore\"><div class=\"entities\" style=\"line-height: 2.5; direction: ltr\">J.River \n",
              "<mark class=\"entity\" style=\"background: #7aecec; padding: 0.45em 0.6em; margin: 0 0.25em; line-height: 1; border-radius: 0.35em;\">\n",
              "    Media Center\n",
              "    <span style=\"font-size: 0.8em; font-weight: bold; line-height: 1; border-radius: 0.35em; text-transform: uppercase; vertical-align: middle; margin-left: 0.5rem\">ORG</span>\n",
              "</mark>\n",
              " 24.0.60 + patch</div></span>"
            ],
            "text/plain": [
              "<IPython.core.display.HTML object>"
            ]
          },
          "metadata": {
            "tags": []
          }
        }
      ]
    },
    {
      "cell_type": "code",
      "metadata": {
        "id": "f7DkCGuEcKI2",
        "colab_type": "code",
        "outputId": "b6cdc48e-30d6-4ac5-e590-951de762d704",
        "colab": {
          "base_uri": "https://localhost:8080/",
          "height": 52
        }
      },
      "source": [
        "txt = data[\"Title\"][30]\n",
        "doc = nlp(txt)\n",
        "colors = {'GPE': 'lightblue', 'NORP':'lightgreen'}\n",
        "options = {'ents': ['GPE', 'NORP'], 'colors': colors}\n",
        "displacy.render(doc, style='ent', jupyter=True, options=options)"
      ],
      "execution_count": 0,
      "outputs": [
        {
          "output_type": "display_data",
          "data": {
            "text/html": [
              "<span class=\"tex2jax_ignore\"><div class=\"entities\" style=\"line-height: 2.5; direction: ltr\">White House adviser says \n",
              "<mark class=\"entity\" style=\"background: lightblue; padding: 0.45em 0.6em; margin: 0 0.25em; line-height: 1; border-radius: 0.35em;\">\n",
              "    U.S.\n",
              "    <span style=\"font-size: 0.8em; font-weight: bold; line-height: 1; border-radius: 0.35em; text-transform: uppercase; vertical-align: middle; margin-left: 0.5rem\">GPE</span>\n",
              "</mark>\n",
              " talking again with \n",
              "<mark class=\"entity\" style=\"background: lightblue; padding: 0.45em 0.6em; margin: 0 0.25em; line-height: 1; border-radius: 0.35em;\">\n",
              "    China\n",
              "    <span style=\"font-size: 0.8em; font-weight: bold; line-height: 1; border-radius: 0.35em; text-transform: uppercase; vertical-align: middle; margin-left: 0.5rem\">GPE</span>\n",
              "</mark>\n",
              " on trade</div></span>"
            ],
            "text/plain": [
              "<IPython.core.display.HTML object>"
            ]
          },
          "metadata": {
            "tags": []
          }
        }
      ]
    },
    {
      "cell_type": "markdown",
      "metadata": {
        "id": "oWuQM5JscUEw",
        "colab_type": "text"
      },
      "source": [
        "Noun phase chunking"
      ]
    },
    {
      "cell_type": "code",
      "metadata": {
        "id": "qy139mBccW7l",
        "colab_type": "code",
        "outputId": "f70e4884-6911-4f97-88ca-7c37b7b4de2d",
        "colab": {
          "base_uri": "https://localhost:8080/",
          "height": 35
        }
      },
      "source": [
        "txt = data[\"Title\"][40]\n",
        "print(txt)"
      ],
      "execution_count": 0,
      "outputs": [
        {
          "output_type": "stream",
          "text": [
            "[[[VIDEO]]][VintageFlash] Vicki Peach Get It Out Lets Get It On\n"
          ],
          "name": "stdout"
        }
      ]
    },
    {
      "cell_type": "code",
      "metadata": {
        "id": "7UJsfhFWcyrx",
        "colab_type": "code",
        "outputId": "daef7167-b632-41f0-eff5-5311ca24a069",
        "colab": {
          "base_uri": "https://localhost:8080/",
          "height": 198
        }
      },
      "source": [
        "doc = nlp(txt)\n",
        "olist = []\n",
        "for chunk in doc.noun_chunks:\n",
        "    olist.append([chunk.text, chunk.label_, chunk.root.text])\n",
        "odf = pd.DataFrame(olist)\n",
        "odf.columns = [\"NounPhrase\", \"Label\", \"RootWord\"]\n",
        "odf"
      ],
      "execution_count": 0,
      "outputs": [
        {
          "output_type": "execute_result",
          "data": {
            "text/html": [
              "<div>\n",
              "<style scoped>\n",
              "    .dataframe tbody tr th:only-of-type {\n",
              "        vertical-align: middle;\n",
              "    }\n",
              "\n",
              "    .dataframe tbody tr th {\n",
              "        vertical-align: top;\n",
              "    }\n",
              "\n",
              "    .dataframe thead th {\n",
              "        text-align: right;\n",
              "    }\n",
              "</style>\n",
              "<table border=\"1\" class=\"dataframe\">\n",
              "  <thead>\n",
              "    <tr style=\"text-align: right;\">\n",
              "      <th></th>\n",
              "      <th>NounPhrase</th>\n",
              "      <th>Label</th>\n",
              "      <th>RootWord</th>\n",
              "    </tr>\n",
              "  </thead>\n",
              "  <tbody>\n",
              "    <tr>\n",
              "      <th>0</th>\n",
              "      <td>[VIDEO]]][VintageFlash</td>\n",
              "      <td>NP</td>\n",
              "      <td>VIDEO]]][VintageFlash</td>\n",
              "    </tr>\n",
              "    <tr>\n",
              "      <th>1</th>\n",
              "      <td>Vicki Peach</td>\n",
              "      <td>NP</td>\n",
              "      <td>Peach</td>\n",
              "    </tr>\n",
              "    <tr>\n",
              "      <th>2</th>\n",
              "      <td>It</td>\n",
              "      <td>NP</td>\n",
              "      <td>It</td>\n",
              "    </tr>\n",
              "    <tr>\n",
              "      <th>3</th>\n",
              "      <td>Lets</td>\n",
              "      <td>NP</td>\n",
              "      <td>Lets</td>\n",
              "    </tr>\n",
              "    <tr>\n",
              "      <th>4</th>\n",
              "      <td>It</td>\n",
              "      <td>NP</td>\n",
              "      <td>It</td>\n",
              "    </tr>\n",
              "  </tbody>\n",
              "</table>\n",
              "</div>"
            ],
            "text/plain": [
              "               NounPhrase Label               RootWord\n",
              "0  [VIDEO]]][VintageFlash    NP  VIDEO]]][VintageFlash\n",
              "1             Vicki Peach    NP                  Peach\n",
              "2                      It    NP                     It\n",
              "3                    Lets    NP                   Lets\n",
              "4                      It    NP                     It"
            ]
          },
          "metadata": {
            "tags": []
          },
          "execution_count": 101
        }
      ]
    },
    {
      "cell_type": "markdown",
      "metadata": {
        "id": "ssX4A-b1gd_u",
        "colab_type": "text"
      },
      "source": [
        "Dependency Parser"
      ]
    },
    {
      "cell_type": "code",
      "metadata": {
        "id": "rErqwBtvdVr7",
        "colab_type": "code",
        "outputId": "1ded4a27-6961-40a1-cd0a-abf5eea405a0",
        "colab": {
          "base_uri": "https://localhost:8080/",
          "height": 318
        }
      },
      "source": [
        "doc = nlp(data[\"Title\"][4])\n",
        "olist = []\n",
        "for token in doc:\n",
        "    olist.append([token.text, token.dep_, token.head.text, token.head.pos_,\n",
        "          [child for child in token.children]])\n",
        "odf = pd.DataFrame(olist)\n",
        "odf.columns = [\"Text\", \"Dep\", \"Head text\", \"Head POS\", \"Children\"]\n",
        "odf"
      ],
      "execution_count": 0,
      "outputs": [
        {
          "output_type": "execute_result",
          "data": {
            "text/html": [
              "<div>\n",
              "<style scoped>\n",
              "    .dataframe tbody tr th:only-of-type {\n",
              "        vertical-align: middle;\n",
              "    }\n",
              "\n",
              "    .dataframe tbody tr th {\n",
              "        vertical-align: top;\n",
              "    }\n",
              "\n",
              "    .dataframe thead th {\n",
              "        text-align: right;\n",
              "    }\n",
              "</style>\n",
              "<table border=\"1\" class=\"dataframe\">\n",
              "  <thead>\n",
              "    <tr style=\"text-align: right;\">\n",
              "      <th></th>\n",
              "      <th>Text</th>\n",
              "      <th>Dep</th>\n",
              "      <th>Head text</th>\n",
              "      <th>Head POS</th>\n",
              "      <th>Children</th>\n",
              "    </tr>\n",
              "  </thead>\n",
              "  <tbody>\n",
              "    <tr>\n",
              "      <th>0</th>\n",
              "      <td>Shiv</td>\n",
              "      <td>compound</td>\n",
              "      <td>Bhala</td>\n",
              "      <td>PROPN</td>\n",
              "      <td>[]</td>\n",
              "    </tr>\n",
              "    <tr>\n",
              "      <th>1</th>\n",
              "      <td>Bhola</td>\n",
              "      <td>compound</td>\n",
              "      <td>Bhala</td>\n",
              "      <td>PROPN</td>\n",
              "      <td>[]</td>\n",
              "    </tr>\n",
              "    <tr>\n",
              "      <th>2</th>\n",
              "      <td>Bhala</td>\n",
              "      <td>compound</td>\n",
              "      <td>Gora</td>\n",
              "      <td>PROPN</td>\n",
              "      <td>[Shiv, Bhola]</td>\n",
              "    </tr>\n",
              "    <tr>\n",
              "      <th>3</th>\n",
              "      <td>Gora</td>\n",
              "      <td>ROOT</td>\n",
              "      <td>Gora</td>\n",
              "      <td>PROPN</td>\n",
              "      <td>[Bhala]</td>\n",
              "    </tr>\n",
              "    <tr>\n",
              "      <th>4</th>\n",
              "      <td>Beth</td>\n",
              "      <td>compound</td>\n",
              "      <td>Bolero</td>\n",
              "      <td>PROPN</td>\n",
              "      <td>[]</td>\n",
              "    </tr>\n",
              "    <tr>\n",
              "      <th>5</th>\n",
              "      <td>Bolero</td>\n",
              "      <td>compound</td>\n",
              "      <td>Mein</td>\n",
              "      <td>PROPN</td>\n",
              "      <td>[Beth]</td>\n",
              "    </tr>\n",
              "    <tr>\n",
              "      <th>6</th>\n",
              "      <td>Mein</td>\n",
              "      <td>compound</td>\n",
              "      <td>Bhole</td>\n",
              "      <td>PROPN</td>\n",
              "      <td>[Bolero]</td>\n",
              "    </tr>\n",
              "    <tr>\n",
              "      <th>7</th>\n",
              "      <td>Shiv</td>\n",
              "      <td>compound</td>\n",
              "      <td>Bhole</td>\n",
              "      <td>PROPN</td>\n",
              "      <td>[]</td>\n",
              "    </tr>\n",
              "    <tr>\n",
              "      <th>8</th>\n",
              "      <td>Bhole</td>\n",
              "      <td>ROOT</td>\n",
              "      <td>Bhole</td>\n",
              "      <td>PROPN</td>\n",
              "      <td>[Mein, Shiv]</td>\n",
              "    </tr>\n",
              "  </tbody>\n",
              "</table>\n",
              "</div>"
            ],
            "text/plain": [
              "     Text       Dep Head text Head POS       Children\n",
              "0    Shiv  compound     Bhala    PROPN             []\n",
              "1   Bhola  compound     Bhala    PROPN             []\n",
              "2   Bhala  compound      Gora    PROPN  [Shiv, Bhola]\n",
              "3    Gora      ROOT      Gora    PROPN        [Bhala]\n",
              "4    Beth  compound    Bolero    PROPN             []\n",
              "5  Bolero  compound      Mein    PROPN         [Beth]\n",
              "6    Mein  compound     Bhole    PROPN       [Bolero]\n",
              "7    Shiv  compound     Bhole    PROPN             []\n",
              "8   Bhole      ROOT     Bhole    PROPN   [Mein, Shiv]"
            ]
          },
          "metadata": {
            "tags": []
          },
          "execution_count": 87
        }
      ]
    },
    {
      "cell_type": "code",
      "metadata": {
        "id": "waVQQSqsds8w",
        "colab_type": "code",
        "outputId": "7614b40d-3a47-47f4-bb92-0ffc279ee8e2",
        "colab": {
          "base_uri": "https://localhost:8080/",
          "height": 247
        }
      },
      "source": [
        "from spacy import displacy\n",
        "displacy.render(doc, style='dep', jupyter=True, options={'distance': 90})"
      ],
      "execution_count": 0,
      "outputs": [
        {
          "output_type": "display_data",
          "data": {
            "text/html": [
              "<span class=\"tex2jax_ignore\"><svg xmlns=\"http://www.w3.org/2000/svg\" xmlns:xlink=\"http://www.w3.org/1999/xlink\" xml:lang=\"en\" id=\"bdb1d8f5b06f4a24a0e5b488aac76ee4-0\" class=\"displacy\" width=\"860\" height=\"227.0\" direction=\"ltr\" style=\"max-width: none; height: 227.0px; color: #000000; background: #ffffff; font-family: Arial; direction: ltr\">\n",
              "<text class=\"displacy-token\" fill=\"currentColor\" text-anchor=\"middle\" y=\"137.0\">\n",
              "    <tspan class=\"displacy-word\" fill=\"currentColor\" x=\"50\">Shiv</tspan>\n",
              "    <tspan class=\"displacy-tag\" dy=\"2em\" fill=\"currentColor\" x=\"50\">PROPN</tspan>\n",
              "</text>\n",
              "\n",
              "<text class=\"displacy-token\" fill=\"currentColor\" text-anchor=\"middle\" y=\"137.0\">\n",
              "    <tspan class=\"displacy-word\" fill=\"currentColor\" x=\"140\">Bhola</tspan>\n",
              "    <tspan class=\"displacy-tag\" dy=\"2em\" fill=\"currentColor\" x=\"140\">PROPN</tspan>\n",
              "</text>\n",
              "\n",
              "<text class=\"displacy-token\" fill=\"currentColor\" text-anchor=\"middle\" y=\"137.0\">\n",
              "    <tspan class=\"displacy-word\" fill=\"currentColor\" x=\"230\">Bhala</tspan>\n",
              "    <tspan class=\"displacy-tag\" dy=\"2em\" fill=\"currentColor\" x=\"230\">PROPN</tspan>\n",
              "</text>\n",
              "\n",
              "<text class=\"displacy-token\" fill=\"currentColor\" text-anchor=\"middle\" y=\"137.0\">\n",
              "    <tspan class=\"displacy-word\" fill=\"currentColor\" x=\"320\">Gora</tspan>\n",
              "    <tspan class=\"displacy-tag\" dy=\"2em\" fill=\"currentColor\" x=\"320\">PROPN</tspan>\n",
              "</text>\n",
              "\n",
              "<text class=\"displacy-token\" fill=\"currentColor\" text-anchor=\"middle\" y=\"137.0\">\n",
              "    <tspan class=\"displacy-word\" fill=\"currentColor\" x=\"410\">Beth</tspan>\n",
              "    <tspan class=\"displacy-tag\" dy=\"2em\" fill=\"currentColor\" x=\"410\">PROPN</tspan>\n",
              "</text>\n",
              "\n",
              "<text class=\"displacy-token\" fill=\"currentColor\" text-anchor=\"middle\" y=\"137.0\">\n",
              "    <tspan class=\"displacy-word\" fill=\"currentColor\" x=\"500\">Bolero</tspan>\n",
              "    <tspan class=\"displacy-tag\" dy=\"2em\" fill=\"currentColor\" x=\"500\">PROPN</tspan>\n",
              "</text>\n",
              "\n",
              "<text class=\"displacy-token\" fill=\"currentColor\" text-anchor=\"middle\" y=\"137.0\">\n",
              "    <tspan class=\"displacy-word\" fill=\"currentColor\" x=\"590\">Mein</tspan>\n",
              "    <tspan class=\"displacy-tag\" dy=\"2em\" fill=\"currentColor\" x=\"590\">PROPN</tspan>\n",
              "</text>\n",
              "\n",
              "<text class=\"displacy-token\" fill=\"currentColor\" text-anchor=\"middle\" y=\"137.0\">\n",
              "    <tspan class=\"displacy-word\" fill=\"currentColor\" x=\"680\">Shiv</tspan>\n",
              "    <tspan class=\"displacy-tag\" dy=\"2em\" fill=\"currentColor\" x=\"680\">PROPN</tspan>\n",
              "</text>\n",
              "\n",
              "<text class=\"displacy-token\" fill=\"currentColor\" text-anchor=\"middle\" y=\"137.0\">\n",
              "    <tspan class=\"displacy-word\" fill=\"currentColor\" x=\"770\">Bhole</tspan>\n",
              "    <tspan class=\"displacy-tag\" dy=\"2em\" fill=\"currentColor\" x=\"770\">PROPN</tspan>\n",
              "</text>\n",
              "\n",
              "<g class=\"displacy-arrow\">\n",
              "    <path class=\"displacy-arc\" id=\"arrow-bdb1d8f5b06f4a24a0e5b488aac76ee4-0-0\" stroke-width=\"2px\" d=\"M70,92.0 C70,2.0 230.0,2.0 230.0,92.0\" fill=\"none\" stroke=\"currentColor\"/>\n",
              "    <text dy=\"1.25em\" style=\"font-size: 0.8em; letter-spacing: 1px\">\n",
              "        <textPath xlink:href=\"#arrow-bdb1d8f5b06f4a24a0e5b488aac76ee4-0-0\" class=\"displacy-label\" startOffset=\"50%\" side=\"left\" fill=\"currentColor\" text-anchor=\"middle\">compound</textPath>\n",
              "    </text>\n",
              "    <path class=\"displacy-arrowhead\" d=\"M70,94.0 L62,82.0 78,82.0\" fill=\"currentColor\"/>\n",
              "</g>\n",
              "\n",
              "<g class=\"displacy-arrow\">\n",
              "    <path class=\"displacy-arc\" id=\"arrow-bdb1d8f5b06f4a24a0e5b488aac76ee4-0-1\" stroke-width=\"2px\" d=\"M160,92.0 C160,47.0 225.0,47.0 225.0,92.0\" fill=\"none\" stroke=\"currentColor\"/>\n",
              "    <text dy=\"1.25em\" style=\"font-size: 0.8em; letter-spacing: 1px\">\n",
              "        <textPath xlink:href=\"#arrow-bdb1d8f5b06f4a24a0e5b488aac76ee4-0-1\" class=\"displacy-label\" startOffset=\"50%\" side=\"left\" fill=\"currentColor\" text-anchor=\"middle\">compound</textPath>\n",
              "    </text>\n",
              "    <path class=\"displacy-arrowhead\" d=\"M160,94.0 L152,82.0 168,82.0\" fill=\"currentColor\"/>\n",
              "</g>\n",
              "\n",
              "<g class=\"displacy-arrow\">\n",
              "    <path class=\"displacy-arc\" id=\"arrow-bdb1d8f5b06f4a24a0e5b488aac76ee4-0-2\" stroke-width=\"2px\" d=\"M250,92.0 C250,47.0 315.0,47.0 315.0,92.0\" fill=\"none\" stroke=\"currentColor\"/>\n",
              "    <text dy=\"1.25em\" style=\"font-size: 0.8em; letter-spacing: 1px\">\n",
              "        <textPath xlink:href=\"#arrow-bdb1d8f5b06f4a24a0e5b488aac76ee4-0-2\" class=\"displacy-label\" startOffset=\"50%\" side=\"left\" fill=\"currentColor\" text-anchor=\"middle\">compound</textPath>\n",
              "    </text>\n",
              "    <path class=\"displacy-arrowhead\" d=\"M250,94.0 L242,82.0 258,82.0\" fill=\"currentColor\"/>\n",
              "</g>\n",
              "\n",
              "<g class=\"displacy-arrow\">\n",
              "    <path class=\"displacy-arc\" id=\"arrow-bdb1d8f5b06f4a24a0e5b488aac76ee4-0-3\" stroke-width=\"2px\" d=\"M430,92.0 C430,47.0 495.0,47.0 495.0,92.0\" fill=\"none\" stroke=\"currentColor\"/>\n",
              "    <text dy=\"1.25em\" style=\"font-size: 0.8em; letter-spacing: 1px\">\n",
              "        <textPath xlink:href=\"#arrow-bdb1d8f5b06f4a24a0e5b488aac76ee4-0-3\" class=\"displacy-label\" startOffset=\"50%\" side=\"left\" fill=\"currentColor\" text-anchor=\"middle\">compound</textPath>\n",
              "    </text>\n",
              "    <path class=\"displacy-arrowhead\" d=\"M430,94.0 L422,82.0 438,82.0\" fill=\"currentColor\"/>\n",
              "</g>\n",
              "\n",
              "<g class=\"displacy-arrow\">\n",
              "    <path class=\"displacy-arc\" id=\"arrow-bdb1d8f5b06f4a24a0e5b488aac76ee4-0-4\" stroke-width=\"2px\" d=\"M520,92.0 C520,47.0 585.0,47.0 585.0,92.0\" fill=\"none\" stroke=\"currentColor\"/>\n",
              "    <text dy=\"1.25em\" style=\"font-size: 0.8em; letter-spacing: 1px\">\n",
              "        <textPath xlink:href=\"#arrow-bdb1d8f5b06f4a24a0e5b488aac76ee4-0-4\" class=\"displacy-label\" startOffset=\"50%\" side=\"left\" fill=\"currentColor\" text-anchor=\"middle\">compound</textPath>\n",
              "    </text>\n",
              "    <path class=\"displacy-arrowhead\" d=\"M520,94.0 L512,82.0 528,82.0\" fill=\"currentColor\"/>\n",
              "</g>\n",
              "\n",
              "<g class=\"displacy-arrow\">\n",
              "    <path class=\"displacy-arc\" id=\"arrow-bdb1d8f5b06f4a24a0e5b488aac76ee4-0-5\" stroke-width=\"2px\" d=\"M610,92.0 C610,2.0 770.0,2.0 770.0,92.0\" fill=\"none\" stroke=\"currentColor\"/>\n",
              "    <text dy=\"1.25em\" style=\"font-size: 0.8em; letter-spacing: 1px\">\n",
              "        <textPath xlink:href=\"#arrow-bdb1d8f5b06f4a24a0e5b488aac76ee4-0-5\" class=\"displacy-label\" startOffset=\"50%\" side=\"left\" fill=\"currentColor\" text-anchor=\"middle\">compound</textPath>\n",
              "    </text>\n",
              "    <path class=\"displacy-arrowhead\" d=\"M610,94.0 L602,82.0 618,82.0\" fill=\"currentColor\"/>\n",
              "</g>\n",
              "\n",
              "<g class=\"displacy-arrow\">\n",
              "    <path class=\"displacy-arc\" id=\"arrow-bdb1d8f5b06f4a24a0e5b488aac76ee4-0-6\" stroke-width=\"2px\" d=\"M700,92.0 C700,47.0 765.0,47.0 765.0,92.0\" fill=\"none\" stroke=\"currentColor\"/>\n",
              "    <text dy=\"1.25em\" style=\"font-size: 0.8em; letter-spacing: 1px\">\n",
              "        <textPath xlink:href=\"#arrow-bdb1d8f5b06f4a24a0e5b488aac76ee4-0-6\" class=\"displacy-label\" startOffset=\"50%\" side=\"left\" fill=\"currentColor\" text-anchor=\"middle\">compound</textPath>\n",
              "    </text>\n",
              "    <path class=\"displacy-arrowhead\" d=\"M700,94.0 L692,82.0 708,82.0\" fill=\"currentColor\"/>\n",
              "</g>\n",
              "</svg></span>"
            ],
            "text/plain": [
              "<IPython.core.display.HTML object>"
            ]
          },
          "metadata": {
            "tags": []
          }
        }
      ]
    },
    {
      "cell_type": "code",
      "metadata": {
        "id": "ZumHoWYpejbD",
        "colab_type": "code",
        "outputId": "520798cd-058d-436d-db36-394c32cfe6b9",
        "colab": {
          "base_uri": "https://localhost:8080/",
          "height": 247
        }
      },
      "source": [
        "doc = nlp(data[\"Title\"][98])\n",
        "displacy.render(doc, style='dep', jupyter=True, options={'distance': 60})"
      ],
      "execution_count": 0,
      "outputs": [
        {
          "output_type": "display_data",
          "data": {
            "text/html": [
              "<span class=\"tex2jax_ignore\"><svg xmlns=\"http://www.w3.org/2000/svg\" xmlns:xlink=\"http://www.w3.org/1999/xlink\" xml:lang=\"en\" id=\"acd0912dc8394f91b52f4d488952be03-0\" class=\"displacy\" width=\"530\" height=\"227.0\" direction=\"ltr\" style=\"max-width: none; height: 227.0px; color: #000000; background: #ffffff; font-family: Arial; direction: ltr\">\n",
              "<text class=\"displacy-token\" fill=\"currentColor\" text-anchor=\"middle\" y=\"137.0\">\n",
              "    <tspan class=\"displacy-word\" fill=\"currentColor\" x=\"50\">Lenovo</tspan>\n",
              "    <tspan class=\"displacy-tag\" dy=\"2em\" fill=\"currentColor\" x=\"50\">PROPN</tspan>\n",
              "</text>\n",
              "\n",
              "<text class=\"displacy-token\" fill=\"currentColor\" text-anchor=\"middle\" y=\"137.0\">\n",
              "    <tspan class=\"displacy-word\" fill=\"currentColor\" x=\"110\">Smart</tspan>\n",
              "    <tspan class=\"displacy-tag\" dy=\"2em\" fill=\"currentColor\" x=\"110\">PROPN</tspan>\n",
              "</text>\n",
              "\n",
              "<text class=\"displacy-token\" fill=\"currentColor\" text-anchor=\"middle\" y=\"137.0\">\n",
              "    <tspan class=\"displacy-word\" fill=\"currentColor\" x=\"170\">Display</tspan>\n",
              "    <tspan class=\"displacy-tag\" dy=\"2em\" fill=\"currentColor\" x=\"170\">PROPN</tspan>\n",
              "</text>\n",
              "\n",
              "<text class=\"displacy-token\" fill=\"currentColor\" text-anchor=\"middle\" y=\"137.0\">\n",
              "    <tspan class=\"displacy-word\" fill=\"currentColor\" x=\"230\">is</tspan>\n",
              "    <tspan class=\"displacy-tag\" dy=\"2em\" fill=\"currentColor\" x=\"230\">AUX</tspan>\n",
              "</text>\n",
              "\n",
              "<text class=\"displacy-token\" fill=\"currentColor\" text-anchor=\"middle\" y=\"137.0\">\n",
              "    <tspan class=\"displacy-word\" fill=\"currentColor\" x=\"290\">n't</tspan>\n",
              "    <tspan class=\"displacy-tag\" dy=\"2em\" fill=\"currentColor\" x=\"290\">PART</tspan>\n",
              "</text>\n",
              "\n",
              "<text class=\"displacy-token\" fill=\"currentColor\" text-anchor=\"middle\" y=\"137.0\">\n",
              "    <tspan class=\"displacy-word\" fill=\"currentColor\" x=\"350\">playing</tspan>\n",
              "    <tspan class=\"displacy-tag\" dy=\"2em\" fill=\"currentColor\" x=\"350\">VERB</tspan>\n",
              "</text>\n",
              "\n",
              "<text class=\"displacy-token\" fill=\"currentColor\" text-anchor=\"middle\" y=\"137.0\">\n",
              "    <tspan class=\"displacy-word\" fill=\"currentColor\" x=\"410\">YouTube</tspan>\n",
              "    <tspan class=\"displacy-tag\" dy=\"2em\" fill=\"currentColor\" x=\"410\">PROPN</tspan>\n",
              "</text>\n",
              "\n",
              "<text class=\"displacy-token\" fill=\"currentColor\" text-anchor=\"middle\" y=\"137.0\">\n",
              "    <tspan class=\"displacy-word\" fill=\"currentColor\" x=\"470\">TV</tspan>\n",
              "    <tspan class=\"displacy-tag\" dy=\"2em\" fill=\"currentColor\" x=\"470\">NOUN</tspan>\n",
              "</text>\n",
              "\n",
              "<g class=\"displacy-arrow\">\n",
              "    <path class=\"displacy-arc\" id=\"arrow-acd0912dc8394f91b52f4d488952be03-0-0\" stroke-width=\"2px\" d=\"M70,92.0 C70,32.0 165.0,32.0 165.0,92.0\" fill=\"none\" stroke=\"currentColor\"/>\n",
              "    <text dy=\"1.25em\" style=\"font-size: 0.8em; letter-spacing: 1px\">\n",
              "        <textPath xlink:href=\"#arrow-acd0912dc8394f91b52f4d488952be03-0-0\" class=\"displacy-label\" startOffset=\"50%\" side=\"left\" fill=\"currentColor\" text-anchor=\"middle\">compound</textPath>\n",
              "    </text>\n",
              "    <path class=\"displacy-arrowhead\" d=\"M70,94.0 L62,82.0 78,82.0\" fill=\"currentColor\"/>\n",
              "</g>\n",
              "\n",
              "<g class=\"displacy-arrow\">\n",
              "    <path class=\"displacy-arc\" id=\"arrow-acd0912dc8394f91b52f4d488952be03-0-1\" stroke-width=\"2px\" d=\"M130,92.0 C130,62.0 160.0,62.0 160.0,92.0\" fill=\"none\" stroke=\"currentColor\"/>\n",
              "    <text dy=\"1.25em\" style=\"font-size: 0.8em; letter-spacing: 1px\">\n",
              "        <textPath xlink:href=\"#arrow-acd0912dc8394f91b52f4d488952be03-0-1\" class=\"displacy-label\" startOffset=\"50%\" side=\"left\" fill=\"currentColor\" text-anchor=\"middle\">compound</textPath>\n",
              "    </text>\n",
              "    <path class=\"displacy-arrowhead\" d=\"M130,94.0 L122,82.0 138,82.0\" fill=\"currentColor\"/>\n",
              "</g>\n",
              "\n",
              "<g class=\"displacy-arrow\">\n",
              "    <path class=\"displacy-arc\" id=\"arrow-acd0912dc8394f91b52f4d488952be03-0-2\" stroke-width=\"2px\" d=\"M190,92.0 C190,2.0 350.0,2.0 350.0,92.0\" fill=\"none\" stroke=\"currentColor\"/>\n",
              "    <text dy=\"1.25em\" style=\"font-size: 0.8em; letter-spacing: 1px\">\n",
              "        <textPath xlink:href=\"#arrow-acd0912dc8394f91b52f4d488952be03-0-2\" class=\"displacy-label\" startOffset=\"50%\" side=\"left\" fill=\"currentColor\" text-anchor=\"middle\">nsubj</textPath>\n",
              "    </text>\n",
              "    <path class=\"displacy-arrowhead\" d=\"M190,94.0 L182,82.0 198,82.0\" fill=\"currentColor\"/>\n",
              "</g>\n",
              "\n",
              "<g class=\"displacy-arrow\">\n",
              "    <path class=\"displacy-arc\" id=\"arrow-acd0912dc8394f91b52f4d488952be03-0-3\" stroke-width=\"2px\" d=\"M250,92.0 C250,32.0 345.0,32.0 345.0,92.0\" fill=\"none\" stroke=\"currentColor\"/>\n",
              "    <text dy=\"1.25em\" style=\"font-size: 0.8em; letter-spacing: 1px\">\n",
              "        <textPath xlink:href=\"#arrow-acd0912dc8394f91b52f4d488952be03-0-3\" class=\"displacy-label\" startOffset=\"50%\" side=\"left\" fill=\"currentColor\" text-anchor=\"middle\">aux</textPath>\n",
              "    </text>\n",
              "    <path class=\"displacy-arrowhead\" d=\"M250,94.0 L242,82.0 258,82.0\" fill=\"currentColor\"/>\n",
              "</g>\n",
              "\n",
              "<g class=\"displacy-arrow\">\n",
              "    <path class=\"displacy-arc\" id=\"arrow-acd0912dc8394f91b52f4d488952be03-0-4\" stroke-width=\"2px\" d=\"M310,92.0 C310,62.0 340.0,62.0 340.0,92.0\" fill=\"none\" stroke=\"currentColor\"/>\n",
              "    <text dy=\"1.25em\" style=\"font-size: 0.8em; letter-spacing: 1px\">\n",
              "        <textPath xlink:href=\"#arrow-acd0912dc8394f91b52f4d488952be03-0-4\" class=\"displacy-label\" startOffset=\"50%\" side=\"left\" fill=\"currentColor\" text-anchor=\"middle\">neg</textPath>\n",
              "    </text>\n",
              "    <path class=\"displacy-arrowhead\" d=\"M310,94.0 L302,82.0 318,82.0\" fill=\"currentColor\"/>\n",
              "</g>\n",
              "\n",
              "<g class=\"displacy-arrow\">\n",
              "    <path class=\"displacy-arc\" id=\"arrow-acd0912dc8394f91b52f4d488952be03-0-5\" stroke-width=\"2px\" d=\"M430,92.0 C430,62.0 460.0,62.0 460.0,92.0\" fill=\"none\" stroke=\"currentColor\"/>\n",
              "    <text dy=\"1.25em\" style=\"font-size: 0.8em; letter-spacing: 1px\">\n",
              "        <textPath xlink:href=\"#arrow-acd0912dc8394f91b52f4d488952be03-0-5\" class=\"displacy-label\" startOffset=\"50%\" side=\"left\" fill=\"currentColor\" text-anchor=\"middle\">compound</textPath>\n",
              "    </text>\n",
              "    <path class=\"displacy-arrowhead\" d=\"M430,94.0 L422,82.0 438,82.0\" fill=\"currentColor\"/>\n",
              "</g>\n",
              "\n",
              "<g class=\"displacy-arrow\">\n",
              "    <path class=\"displacy-arc\" id=\"arrow-acd0912dc8394f91b52f4d488952be03-0-6\" stroke-width=\"2px\" d=\"M370,92.0 C370,32.0 465.0,32.0 465.0,92.0\" fill=\"none\" stroke=\"currentColor\"/>\n",
              "    <text dy=\"1.25em\" style=\"font-size: 0.8em; letter-spacing: 1px\">\n",
              "        <textPath xlink:href=\"#arrow-acd0912dc8394f91b52f4d488952be03-0-6\" class=\"displacy-label\" startOffset=\"50%\" side=\"left\" fill=\"currentColor\" text-anchor=\"middle\">dobj</textPath>\n",
              "    </text>\n",
              "    <path class=\"displacy-arrowhead\" d=\"M465.0,94.0 L473.0,82.0 457.0,82.0\" fill=\"currentColor\"/>\n",
              "</g>\n",
              "</svg></span>"
            ],
            "text/plain": [
              "<IPython.core.display.HTML object>"
            ]
          },
          "metadata": {
            "tags": []
          }
        }
      ]
    }
  ]
}