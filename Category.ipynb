{
  "nbformat": 4,
  "nbformat_minor": 0,
  "metadata": {
    "colab": {
      "name": "Category.ipynb",
      "provenance": [],
      "collapsed_sections": [],
      "authorship_tag": "ABX9TyNQK9DuU2i2YGRDqLcypp4S",
      "include_colab_link": true
    },
    "kernelspec": {
      "name": "python3",
      "display_name": "Python 3"
    }
  },
  "cells": [
    {
      "cell_type": "markdown",
      "metadata": {
        "id": "view-in-github",
        "colab_type": "text"
      },
      "source": [
        "<a href=\"https://colab.research.google.com/github/GazalaSayyad/spacy-Name-Entity-Recognition/blob/master/Category.ipynb\" target=\"_parent\"><img src=\"https://colab.research.google.com/assets/colab-badge.svg\" alt=\"Open In Colab\"/></a>"
      ]
    },
    {
      "cell_type": "code",
      "metadata": {
        "id": "IPDifIPD_29W",
        "colab_type": "code",
        "colab": {}
      },
      "source": [
        "import pandas as pd"
      ],
      "execution_count": 0,
      "outputs": []
    },
    {
      "cell_type": "code",
      "metadata": {
        "id": "vD2iaYzAAv3E",
        "colab_type": "code",
        "colab": {}
      },
      "source": [
        "data=pd.read_excel('newsData.xls')"
      ],
      "execution_count": 0,
      "outputs": []
    },
    {
      "cell_type": "code",
      "metadata": {
        "id": "ekqy0hI1BG8j",
        "colab_type": "code",
        "outputId": "a6fc272c-cd0d-4862-b536-71b70e4d1daf",
        "colab": {
          "base_uri": "https://localhost:8080/",
          "height": 564
        }
      },
      "source": [
        "data.head()"
      ],
      "execution_count": 0,
      "outputs": [
        {
          "output_type": "execute_result",
          "data": {
            "text/html": [
              "<div>\n",
              "<style scoped>\n",
              "    .dataframe tbody tr th:only-of-type {\n",
              "        vertical-align: middle;\n",
              "    }\n",
              "\n",
              "    .dataframe tbody tr th {\n",
              "        vertical-align: top;\n",
              "    }\n",
              "\n",
              "    .dataframe thead th {\n",
              "        text-align: right;\n",
              "    }\n",
              "</style>\n",
              "<table border=\"1\" class=\"dataframe\">\n",
              "  <thead>\n",
              "    <tr style=\"text-align: right;\">\n",
              "      <th></th>\n",
              "      <th>Post Link</th>\n",
              "      <th>Post Order in Thread</th>\n",
              "      <th>Author</th>\n",
              "      <th>Post Publication Date</th>\n",
              "      <th>Title</th>\n",
              "      <th>Text</th>\n",
              "      <th>Language</th>\n",
              "      <th>External Links</th>\n",
              "      <th>Mentioned Persons (positive)</th>\n",
              "      <th>Mentioned Persons (negative)</th>\n",
              "      <th>Mentioned Persons (neutral)</th>\n",
              "      <th>Mentioned Persons (none)</th>\n",
              "      <th>Mentioned Locations</th>\n",
              "      <th>Mentioned Organizations (positive)</th>\n",
              "      <th>Mentioned Organizations (negative)</th>\n",
              "      <th>Mentioned Organizations (neutral)</th>\n",
              "      <th>Mentioned Organizations (none)</th>\n",
              "      <th>Thread Link</th>\n",
              "      <th>Title.1</th>\n",
              "      <th>Section Link</th>\n",
              "      <th>Section Title</th>\n",
              "      <th>Thread Publication Date</th>\n",
              "      <th>Comments Count</th>\n",
              "      <th>Participants Count</th>\n",
              "      <th>Site Type</th>\n",
              "      <th>Site Name</th>\n",
              "      <th>Site Country</th>\n",
              "      <th>Main Image</th>\n",
              "      <th>Performance Score</th>\n",
              "      <th>Rating</th>\n",
              "    </tr>\n",
              "  </thead>\n",
              "  <tbody>\n",
              "    <tr>\n",
              "      <th>0</th>\n",
              "      <td>http://omgili.com/ri/.wHSUbtEfZSbaqzVQLqf6K5IO...</td>\n",
              "      <td>0</td>\n",
              "      <td>NaN</td>\n",
              "      <td>2018-11-13T01:00:00.000+02:00</td>\n",
              "      <td>PRRSV surveillance. How we could track PRRS co...</td>\n",
              "      <td>follow 2 Like\\nIn previous articles we reviewe...</td>\n",
              "      <td>english</td>\n",
              "      <td>NaN</td>\n",
              "      <td>NaN</td>\n",
              "      <td>NaN</td>\n",
              "      <td>NaN</td>\n",
              "      <td>wang ,</td>\n",
              "      <td>china , north america , germany , spain ,</td>\n",
              "      <td>NaN</td>\n",
              "      <td>NaN</td>\n",
              "      <td>NaN</td>\n",
              "      <td>NaN</td>\n",
              "      <td>http://omgili.com/ri/.wHSUbtEfZSbaqzVQLqf6K5IO...</td>\n",
              "      <td>PRRSV surveillance. How we could track PRRS co...</td>\n",
              "      <td>https://www.pig333.com/rss/home</td>\n",
              "      <td>Pig to pork</td>\n",
              "      <td>2018-11-13T01:00:00.000+02:00</td>\n",
              "      <td>0</td>\n",
              "      <td>0</td>\n",
              "      <td>news</td>\n",
              "      <td>pig333.com</td>\n",
              "      <td>ES</td>\n",
              "      <td>https://www.pig333.com/3tres3_common/art/pig33...</td>\n",
              "      <td>0</td>\n",
              "      <td>NaN</td>\n",
              "    </tr>\n",
              "    <tr>\n",
              "      <th>1</th>\n",
              "      <td>http://omgili.com/ri/.wHSUbtEfZRDcqHtpKs66rN2v...</td>\n",
              "      <td>0</td>\n",
              "      <td>NaN</td>\n",
              "      <td>2018-11-13T16:47:00.000+02:00</td>\n",
              "      <td>Ant Download Manager Pro 1.10.2 Build 54254 + ...</td>\n",
              "      <td>Visit TutsGalaxy.com for tutorials &amp; free cour...</td>\n",
              "      <td>english</td>\n",
              "      <td>NaN</td>\n",
              "      <td>NaN</td>\n",
              "      <td>NaN</td>\n",
              "      <td>NaN</td>\n",
              "      <td>slimjet ,</td>\n",
              "      <td>NaN</td>\n",
              "      <td>NaN</td>\n",
              "      <td>NaN</td>\n",
              "      <td>NaN</td>\n",
              "      <td>mozilla firefox , google chrome ,</td>\n",
              "      <td>http://omgili.com/ri/.wHSUbtEfZRDcqHtpKs66rN2v...</td>\n",
              "      <td>Ant Download Manager Pro 1.10.2 Build 54254 + ...</td>\n",
              "      <td>http://www.limetorrents.cc/rss/</td>\n",
              "      <td>LimeTorrents.info - RSS Feed</td>\n",
              "      <td>2018-11-13T16:47:00.000+02:00</td>\n",
              "      <td>0</td>\n",
              "      <td>0</td>\n",
              "      <td>blogs</td>\n",
              "      <td>limetorrents.info</td>\n",
              "      <td>CC</td>\n",
              "      <td>NaN</td>\n",
              "      <td>0</td>\n",
              "      <td>NaN</td>\n",
              "    </tr>\n",
              "    <tr>\n",
              "      <th>2</th>\n",
              "      <td>http://omgili.com/ri/_0JOtn.4SCoF5VTZjCccpVxqD...</td>\n",
              "      <td>13</td>\n",
              "      <td>Anonymous</td>\n",
              "      <td>2018-11-13T17:20:00.000+02:00</td>\n",
              "      <td>NaN</td>\n",
              "      <td>I'm so sorry you had to witness this</td>\n",
              "      <td>english</td>\n",
              "      <td>NaN</td>\n",
              "      <td>NaN</td>\n",
              "      <td>NaN</td>\n",
              "      <td>NaN</td>\n",
              "      <td>NaN</td>\n",
              "      <td>NaN</td>\n",
              "      <td>NaN</td>\n",
              "      <td>NaN</td>\n",
              "      <td>NaN</td>\n",
              "      <td>NaN</td>\n",
              "      <td>http://omgili.com/ri/_0JOtn.4SCoF5VTZjCccpVxqD...</td>\n",
              "      <td>.</td>\n",
              "      <td>http://boards.4chan.org/int/</td>\n",
              "      <td>/int/ - International - 4chan</td>\n",
              "      <td>2018-11-13T16:52:00.000+02:00</td>\n",
              "      <td>140</td>\n",
              "      <td>1</td>\n",
              "      <td>discussions</td>\n",
              "      <td>4chan.org</td>\n",
              "      <td>US</td>\n",
              "      <td>NaN</td>\n",
              "      <td>0</td>\n",
              "      <td>NaN</td>\n",
              "    </tr>\n",
              "    <tr>\n",
              "      <th>3</th>\n",
              "      <td>http://omgili.com/ri/_0JOtn.4SCoF5VTZjCccpVxqD...</td>\n",
              "      <td>15</td>\n",
              "      <td>Anonymous</td>\n",
              "      <td>2018-11-13T17:31:00.000+02:00</td>\n",
              "      <td>NaN</td>\n",
              "      <td>yikers&amp;cringers</td>\n",
              "      <td>english</td>\n",
              "      <td>NaN</td>\n",
              "      <td>NaN</td>\n",
              "      <td>NaN</td>\n",
              "      <td>NaN</td>\n",
              "      <td>NaN</td>\n",
              "      <td>NaN</td>\n",
              "      <td>NaN</td>\n",
              "      <td>NaN</td>\n",
              "      <td>NaN</td>\n",
              "      <td>NaN</td>\n",
              "      <td>http://omgili.com/ri/_0JOtn.4SCoF5VTZjCccpVxqD...</td>\n",
              "      <td>.</td>\n",
              "      <td>http://boards.4chan.org/int/</td>\n",
              "      <td>/int/ - International - 4chan</td>\n",
              "      <td>2018-11-13T16:52:00.000+02:00</td>\n",
              "      <td>140</td>\n",
              "      <td>1</td>\n",
              "      <td>discussions</td>\n",
              "      <td>4chan.org</td>\n",
              "      <td>US</td>\n",
              "      <td>NaN</td>\n",
              "      <td>0</td>\n",
              "      <td>NaN</td>\n",
              "    </tr>\n",
              "    <tr>\n",
              "      <th>4</th>\n",
              "      <td>http://omgili.com/ri/2wGaacqxApv27k8wLB.qKT5en...</td>\n",
              "      <td>0</td>\n",
              "      <td>NaN</td>\n",
              "      <td>2018-11-13T18:53:00.000+02:00</td>\n",
              "      <td>Shiv Bhola Bhala Gora Beth Bolero Mein Shiv Bhole</td>\n",
              "      <td>Home / Music / shiv bhola bhala gora beth bole...</td>\n",
              "      <td>english</td>\n",
              "      <td>http://data-vocabulary.org/Breadcrumb , http:/...</td>\n",
              "      <td>NaN</td>\n",
              "      <td>NaN</td>\n",
              "      <td>NaN</td>\n",
              "      <td>shiv bhola bhala gora beth bolero ,</td>\n",
              "      <td>NaN</td>\n",
              "      <td>NaN</td>\n",
              "      <td>NaN</td>\n",
              "      <td>NaN</td>\n",
              "      <td>NaN</td>\n",
              "      <td>http://omgili.com/ri/2wGaacqxApv27k8wLB.qKT5en...</td>\n",
              "      <td>Shiv Bhola Bhala Gora Beth Bolero Mein Shiv Bhole</td>\n",
              "      <td>http://musik.axom.in/feed</td>\n",
              "      <td>Download Free Audio mp3 songs | musika.axom.in</td>\n",
              "      <td>2018-11-13T18:53:00.000+02:00</td>\n",
              "      <td>0</td>\n",
              "      <td>0</td>\n",
              "      <td>news</td>\n",
              "      <td>axom.in</td>\n",
              "      <td>IN</td>\n",
              "      <td>http://musik.axom.in/images/mp3-songs-download...</td>\n",
              "      <td>0</td>\n",
              "      <td>NaN</td>\n",
              "    </tr>\n",
              "  </tbody>\n",
              "</table>\n",
              "</div>"
            ],
            "text/plain": [
              "                                           Post Link  ...  Rating\n",
              "0  http://omgili.com/ri/.wHSUbtEfZSbaqzVQLqf6K5IO...  ...     NaN\n",
              "1  http://omgili.com/ri/.wHSUbtEfZRDcqHtpKs66rN2v...  ...     NaN\n",
              "2  http://omgili.com/ri/_0JOtn.4SCoF5VTZjCccpVxqD...  ...     NaN\n",
              "3  http://omgili.com/ri/_0JOtn.4SCoF5VTZjCccpVxqD...  ...     NaN\n",
              "4  http://omgili.com/ri/2wGaacqxApv27k8wLB.qKT5en...  ...     NaN\n",
              "\n",
              "[5 rows x 30 columns]"
            ]
          },
          "metadata": {
            "tags": []
          },
          "execution_count": 106
        }
      ]
    },
    {
      "cell_type": "code",
      "metadata": {
        "id": "F6RhdJhNwhA1",
        "colab_type": "code",
        "outputId": "9952a9eb-eef2-4586-ae2e-0a9aeacc5e1a",
        "colab": {
          "base_uri": "https://localhost:8080/",
          "height": 581
        }
      },
      "source": [
        "data.isnull().sum()"
      ],
      "execution_count": 0,
      "outputs": [
        {
          "output_type": "execute_result",
          "data": {
            "text/plain": [
              "Post Link                               0\n",
              "Post Order in Thread                    0\n",
              "Author                                 16\n",
              "Post Publication Date                   0\n",
              "Title                                  63\n",
              "Text                                    1\n",
              "Language                                0\n",
              "External Links                         82\n",
              "Mentioned Persons (positive)          100\n",
              "Mentioned Persons (negative)           98\n",
              "Mentioned Persons (neutral)           100\n",
              "Mentioned Persons (none)               84\n",
              "Mentioned Locations                    88\n",
              "Mentioned Organizations (positive)    100\n",
              "Mentioned Organizations (negative)     98\n",
              "Mentioned Organizations (neutral)     100\n",
              "Mentioned Organizations (none)         87\n",
              "Thread Link                             0\n",
              "Title.1                                 1\n",
              "Section Link                            7\n",
              "Section Title                           8\n",
              "Thread Publication Date                 0\n",
              "Comments Count                          0\n",
              "Participants Count                      0\n",
              "Site Type                               0\n",
              "Site Name                               0\n",
              "Site Country                            0\n",
              "Main Image                             68\n",
              "Performance Score                       0\n",
              "Rating                                 97\n",
              "dtype: int64"
            ]
          },
          "metadata": {
            "tags": []
          },
          "execution_count": 107
        }
      ]
    },
    {
      "cell_type": "code",
      "metadata": {
        "id": "3vLwA8RewrmO",
        "colab_type": "code",
        "colab": {}
      },
      "source": [
        "to_drop = ['Mentioned Persons (positive)',\n",
        "           'Mentioned Persons (negative)',\n",
        "           'Mentioned Persons (neutral)',\n",
        "           'Mentioned Persons (none)',\n",
        "           'Mentioned Organizations (positive)',\n",
        "           'Mentioned Organizations (negative)',\n",
        "           'Mentioned Organizations (neutral)',\n",
        "           'Mentioned Organizations (none)',\n",
        "           'Main Image',\n",
        "           'Post Link',\n",
        "           'Post Order in Thread',\n",
        "           'Author',\n",
        "           'Post Publication Date',\n",
        "           'Title',\n",
        "           'Main Image']\n",
        "            \n",
        "data.drop(to_drop, inplace=True, axis=1)"
      ],
      "execution_count": 0,
      "outputs": []
    },
    {
      "cell_type": "code",
      "metadata": {
        "id": "vBv5jBRKwxIF",
        "colab_type": "code",
        "outputId": "b1a32d3d-ac5b-4680-dffb-70ce53d4c860",
        "colab": {
          "base_uri": "https://localhost:8080/",
          "height": 529
        }
      },
      "source": [
        "data.head()"
      ],
      "execution_count": 0,
      "outputs": [
        {
          "output_type": "execute_result",
          "data": {
            "text/html": [
              "<div>\n",
              "<style scoped>\n",
              "    .dataframe tbody tr th:only-of-type {\n",
              "        vertical-align: middle;\n",
              "    }\n",
              "\n",
              "    .dataframe tbody tr th {\n",
              "        vertical-align: top;\n",
              "    }\n",
              "\n",
              "    .dataframe thead th {\n",
              "        text-align: right;\n",
              "    }\n",
              "</style>\n",
              "<table border=\"1\" class=\"dataframe\">\n",
              "  <thead>\n",
              "    <tr style=\"text-align: right;\">\n",
              "      <th></th>\n",
              "      <th>Text</th>\n",
              "      <th>Language</th>\n",
              "      <th>External Links</th>\n",
              "      <th>Mentioned Locations</th>\n",
              "      <th>Thread Link</th>\n",
              "      <th>Title.1</th>\n",
              "      <th>Section Link</th>\n",
              "      <th>Section Title</th>\n",
              "      <th>Thread Publication Date</th>\n",
              "      <th>Comments Count</th>\n",
              "      <th>Participants Count</th>\n",
              "      <th>Site Type</th>\n",
              "      <th>Site Name</th>\n",
              "      <th>Site Country</th>\n",
              "      <th>Performance Score</th>\n",
              "      <th>Rating</th>\n",
              "    </tr>\n",
              "  </thead>\n",
              "  <tbody>\n",
              "    <tr>\n",
              "      <th>0</th>\n",
              "      <td>follow 2 Like\\nIn previous articles we reviewe...</td>\n",
              "      <td>english</td>\n",
              "      <td>NaN</td>\n",
              "      <td>china , north america , germany , spain ,</td>\n",
              "      <td>http://omgili.com/ri/.wHSUbtEfZSbaqzVQLqf6K5IO...</td>\n",
              "      <td>PRRSV surveillance. How we could track PRRS co...</td>\n",
              "      <td>https://www.pig333.com/rss/home</td>\n",
              "      <td>Pig to pork</td>\n",
              "      <td>2018-11-13T01:00:00.000+02:00</td>\n",
              "      <td>0</td>\n",
              "      <td>0</td>\n",
              "      <td>news</td>\n",
              "      <td>pig333.com</td>\n",
              "      <td>ES</td>\n",
              "      <td>0</td>\n",
              "      <td>NaN</td>\n",
              "    </tr>\n",
              "    <tr>\n",
              "      <th>1</th>\n",
              "      <td>Visit TutsGalaxy.com for tutorials &amp; free cour...</td>\n",
              "      <td>english</td>\n",
              "      <td>NaN</td>\n",
              "      <td>NaN</td>\n",
              "      <td>http://omgili.com/ri/.wHSUbtEfZRDcqHtpKs66rN2v...</td>\n",
              "      <td>Ant Download Manager Pro 1.10.2 Build 54254 + ...</td>\n",
              "      <td>http://www.limetorrents.cc/rss/</td>\n",
              "      <td>LimeTorrents.info - RSS Feed</td>\n",
              "      <td>2018-11-13T16:47:00.000+02:00</td>\n",
              "      <td>0</td>\n",
              "      <td>0</td>\n",
              "      <td>blogs</td>\n",
              "      <td>limetorrents.info</td>\n",
              "      <td>CC</td>\n",
              "      <td>0</td>\n",
              "      <td>NaN</td>\n",
              "    </tr>\n",
              "    <tr>\n",
              "      <th>2</th>\n",
              "      <td>I'm so sorry you had to witness this</td>\n",
              "      <td>english</td>\n",
              "      <td>NaN</td>\n",
              "      <td>NaN</td>\n",
              "      <td>http://omgili.com/ri/_0JOtn.4SCoF5VTZjCccpVxqD...</td>\n",
              "      <td>.</td>\n",
              "      <td>http://boards.4chan.org/int/</td>\n",
              "      <td>/int/ - International - 4chan</td>\n",
              "      <td>2018-11-13T16:52:00.000+02:00</td>\n",
              "      <td>140</td>\n",
              "      <td>1</td>\n",
              "      <td>discussions</td>\n",
              "      <td>4chan.org</td>\n",
              "      <td>US</td>\n",
              "      <td>0</td>\n",
              "      <td>NaN</td>\n",
              "    </tr>\n",
              "    <tr>\n",
              "      <th>3</th>\n",
              "      <td>yikers&amp;cringers</td>\n",
              "      <td>english</td>\n",
              "      <td>NaN</td>\n",
              "      <td>NaN</td>\n",
              "      <td>http://omgili.com/ri/_0JOtn.4SCoF5VTZjCccpVxqD...</td>\n",
              "      <td>.</td>\n",
              "      <td>http://boards.4chan.org/int/</td>\n",
              "      <td>/int/ - International - 4chan</td>\n",
              "      <td>2018-11-13T16:52:00.000+02:00</td>\n",
              "      <td>140</td>\n",
              "      <td>1</td>\n",
              "      <td>discussions</td>\n",
              "      <td>4chan.org</td>\n",
              "      <td>US</td>\n",
              "      <td>0</td>\n",
              "      <td>NaN</td>\n",
              "    </tr>\n",
              "    <tr>\n",
              "      <th>4</th>\n",
              "      <td>Home / Music / shiv bhola bhala gora beth bole...</td>\n",
              "      <td>english</td>\n",
              "      <td>http://data-vocabulary.org/Breadcrumb , http:/...</td>\n",
              "      <td>NaN</td>\n",
              "      <td>http://omgili.com/ri/2wGaacqxApv27k8wLB.qKT5en...</td>\n",
              "      <td>Shiv Bhola Bhala Gora Beth Bolero Mein Shiv Bhole</td>\n",
              "      <td>http://musik.axom.in/feed</td>\n",
              "      <td>Download Free Audio mp3 songs | musika.axom.in</td>\n",
              "      <td>2018-11-13T18:53:00.000+02:00</td>\n",
              "      <td>0</td>\n",
              "      <td>0</td>\n",
              "      <td>news</td>\n",
              "      <td>axom.in</td>\n",
              "      <td>IN</td>\n",
              "      <td>0</td>\n",
              "      <td>NaN</td>\n",
              "    </tr>\n",
              "  </tbody>\n",
              "</table>\n",
              "</div>"
            ],
            "text/plain": [
              "                                                Text  ... Rating\n",
              "0  follow 2 Like\\nIn previous articles we reviewe...  ...    NaN\n",
              "1  Visit TutsGalaxy.com for tutorials & free cour...  ...    NaN\n",
              "2               I'm so sorry you had to witness this  ...    NaN\n",
              "3                                    yikers&cringers  ...    NaN\n",
              "4  Home / Music / shiv bhola bhala gora beth bole...  ...    NaN\n",
              "\n",
              "[5 rows x 16 columns]"
            ]
          },
          "metadata": {
            "tags": []
          },
          "execution_count": 109
        }
      ]
    },
    {
      "cell_type": "code",
      "metadata": {
        "id": "f7_XOHIgDEMq",
        "colab_type": "code",
        "outputId": "3e2cad8c-11d6-4a7b-b1ac-273e688b5366",
        "colab": {
          "base_uri": "https://localhost:8080/",
          "height": 963
        }
      },
      "source": [
        "data = data.rename(columns = {\"Site Type\":\"Category\"}) \n",
        "data"
      ],
      "execution_count": 0,
      "outputs": [
        {
          "output_type": "execute_result",
          "data": {
            "text/html": [
              "<div>\n",
              "<style scoped>\n",
              "    .dataframe tbody tr th:only-of-type {\n",
              "        vertical-align: middle;\n",
              "    }\n",
              "\n",
              "    .dataframe tbody tr th {\n",
              "        vertical-align: top;\n",
              "    }\n",
              "\n",
              "    .dataframe thead th {\n",
              "        text-align: right;\n",
              "    }\n",
              "</style>\n",
              "<table border=\"1\" class=\"dataframe\">\n",
              "  <thead>\n",
              "    <tr style=\"text-align: right;\">\n",
              "      <th></th>\n",
              "      <th>Text</th>\n",
              "      <th>Language</th>\n",
              "      <th>External Links</th>\n",
              "      <th>Mentioned Locations</th>\n",
              "      <th>Thread Link</th>\n",
              "      <th>Title.1</th>\n",
              "      <th>Section Link</th>\n",
              "      <th>Section Title</th>\n",
              "      <th>Thread Publication Date</th>\n",
              "      <th>Comments Count</th>\n",
              "      <th>Participants Count</th>\n",
              "      <th>Category</th>\n",
              "      <th>Site Name</th>\n",
              "      <th>Site Country</th>\n",
              "      <th>Performance Score</th>\n",
              "      <th>Rating</th>\n",
              "    </tr>\n",
              "  </thead>\n",
              "  <tbody>\n",
              "    <tr>\n",
              "      <th>0</th>\n",
              "      <td>follow 2 Like\\nIn previous articles we reviewe...</td>\n",
              "      <td>english</td>\n",
              "      <td>NaN</td>\n",
              "      <td>china , north america , germany , spain ,</td>\n",
              "      <td>http://omgili.com/ri/.wHSUbtEfZSbaqzVQLqf6K5IO...</td>\n",
              "      <td>PRRSV surveillance. How we could track PRRS co...</td>\n",
              "      <td>https://www.pig333.com/rss/home</td>\n",
              "      <td>Pig to pork</td>\n",
              "      <td>2018-11-13T01:00:00.000+02:00</td>\n",
              "      <td>0</td>\n",
              "      <td>0</td>\n",
              "      <td>news</td>\n",
              "      <td>pig333.com</td>\n",
              "      <td>ES</td>\n",
              "      <td>0</td>\n",
              "      <td>NaN</td>\n",
              "    </tr>\n",
              "    <tr>\n",
              "      <th>1</th>\n",
              "      <td>Visit TutsGalaxy.com for tutorials &amp; free cour...</td>\n",
              "      <td>english</td>\n",
              "      <td>NaN</td>\n",
              "      <td>NaN</td>\n",
              "      <td>http://omgili.com/ri/.wHSUbtEfZRDcqHtpKs66rN2v...</td>\n",
              "      <td>Ant Download Manager Pro 1.10.2 Build 54254 + ...</td>\n",
              "      <td>http://www.limetorrents.cc/rss/</td>\n",
              "      <td>LimeTorrents.info - RSS Feed</td>\n",
              "      <td>2018-11-13T16:47:00.000+02:00</td>\n",
              "      <td>0</td>\n",
              "      <td>0</td>\n",
              "      <td>blogs</td>\n",
              "      <td>limetorrents.info</td>\n",
              "      <td>CC</td>\n",
              "      <td>0</td>\n",
              "      <td>NaN</td>\n",
              "    </tr>\n",
              "    <tr>\n",
              "      <th>2</th>\n",
              "      <td>I'm so sorry you had to witness this</td>\n",
              "      <td>english</td>\n",
              "      <td>NaN</td>\n",
              "      <td>NaN</td>\n",
              "      <td>http://omgili.com/ri/_0JOtn.4SCoF5VTZjCccpVxqD...</td>\n",
              "      <td>.</td>\n",
              "      <td>http://boards.4chan.org/int/</td>\n",
              "      <td>/int/ - International - 4chan</td>\n",
              "      <td>2018-11-13T16:52:00.000+02:00</td>\n",
              "      <td>140</td>\n",
              "      <td>1</td>\n",
              "      <td>discussions</td>\n",
              "      <td>4chan.org</td>\n",
              "      <td>US</td>\n",
              "      <td>0</td>\n",
              "      <td>NaN</td>\n",
              "    </tr>\n",
              "    <tr>\n",
              "      <th>3</th>\n",
              "      <td>yikers&amp;cringers</td>\n",
              "      <td>english</td>\n",
              "      <td>NaN</td>\n",
              "      <td>NaN</td>\n",
              "      <td>http://omgili.com/ri/_0JOtn.4SCoF5VTZjCccpVxqD...</td>\n",
              "      <td>.</td>\n",
              "      <td>http://boards.4chan.org/int/</td>\n",
              "      <td>/int/ - International - 4chan</td>\n",
              "      <td>2018-11-13T16:52:00.000+02:00</td>\n",
              "      <td>140</td>\n",
              "      <td>1</td>\n",
              "      <td>discussions</td>\n",
              "      <td>4chan.org</td>\n",
              "      <td>US</td>\n",
              "      <td>0</td>\n",
              "      <td>NaN</td>\n",
              "    </tr>\n",
              "    <tr>\n",
              "      <th>4</th>\n",
              "      <td>Home / Music / shiv bhola bhala gora beth bole...</td>\n",
              "      <td>english</td>\n",
              "      <td>http://data-vocabulary.org/Breadcrumb , http:/...</td>\n",
              "      <td>NaN</td>\n",
              "      <td>http://omgili.com/ri/2wGaacqxApv27k8wLB.qKT5en...</td>\n",
              "      <td>Shiv Bhola Bhala Gora Beth Bolero Mein Shiv Bhole</td>\n",
              "      <td>http://musik.axom.in/feed</td>\n",
              "      <td>Download Free Audio mp3 songs | musika.axom.in</td>\n",
              "      <td>2018-11-13T18:53:00.000+02:00</td>\n",
              "      <td>0</td>\n",
              "      <td>0</td>\n",
              "      <td>news</td>\n",
              "      <td>axom.in</td>\n",
              "      <td>IN</td>\n",
              "      <td>0</td>\n",
              "      <td>NaN</td>\n",
              "    </tr>\n",
              "    <tr>\n",
              "      <th>...</th>\n",
              "      <td>...</td>\n",
              "      <td>...</td>\n",
              "      <td>...</td>\n",
              "      <td>...</td>\n",
              "      <td>...</td>\n",
              "      <td>...</td>\n",
              "      <td>...</td>\n",
              "      <td>...</td>\n",
              "      <td>...</td>\n",
              "      <td>...</td>\n",
              "      <td>...</td>\n",
              "      <td>...</td>\n",
              "      <td>...</td>\n",
              "      <td>...</td>\n",
              "      <td>...</td>\n",
              "      <td>...</td>\n",
              "    </tr>\n",
              "    <tr>\n",
              "      <th>95</th>\n",
              "      <td>Ksenia Bogdanova</td>\n",
              "      <td>english</td>\n",
              "      <td>NaN</td>\n",
              "      <td>NaN</td>\n",
              "      <td>http://omgili.com/ri/.wHSUbtEfZQApyRnPnOVUtpxo...</td>\n",
              "      <td>Ksenia Bogdanova</td>\n",
              "      <td>https://vk.com/ksenkamilasha</td>\n",
              "      <td>Ksenia Bogdanova</td>\n",
              "      <td>2018-11-13T17:52:00.000+02:00</td>\n",
              "      <td>1</td>\n",
              "      <td>2</td>\n",
              "      <td>discussions</td>\n",
              "      <td>vk.com</td>\n",
              "      <td>RU</td>\n",
              "      <td>0</td>\n",
              "      <td>NaN</td>\n",
              "    </tr>\n",
              "    <tr>\n",
              "      <th>96</th>\n",
              "      <td>Красота</td>\n",
              "      <td>english</td>\n",
              "      <td>NaN</td>\n",
              "      <td>NaN</td>\n",
              "      <td>http://omgili.com/ri/.wHSUbtEfZQApyRnPnOVUtpxo...</td>\n",
              "      <td>Ksenia Bogdanova</td>\n",
              "      <td>https://vk.com/ksenkamilasha</td>\n",
              "      <td>Ksenia Bogdanova</td>\n",
              "      <td>2018-11-13T17:52:00.000+02:00</td>\n",
              "      <td>1</td>\n",
              "      <td>2</td>\n",
              "      <td>discussions</td>\n",
              "      <td>vk.com</td>\n",
              "      <td>RU</td>\n",
              "      <td>0</td>\n",
              "      <td>NaN</td>\n",
              "    </tr>\n",
              "    <tr>\n",
              "      <th>97</th>\n",
              "      <td>Just put the rod about half way between top of...</td>\n",
              "      <td>english</td>\n",
              "      <td>NaN</td>\n",
              "      <td>NaN</td>\n",
              "      <td>http://omgili.com/ri/.wHSUbtEfZQKJDIEtQgTouLH2...</td>\n",
              "      <td>Bay Window Drapes</td>\n",
              "      <td>https://www.houzz.com/discussions/p/360</td>\n",
              "      <td>Join Home &amp;amp; Garden Discussions on Houzz</td>\n",
              "      <td>2018-11-12T03:01:00.000+02:00</td>\n",
              "      <td>17</td>\n",
              "      <td>8</td>\n",
              "      <td>discussions</td>\n",
              "      <td>houzz.com</td>\n",
              "      <td>US</td>\n",
              "      <td>0</td>\n",
              "      <td>NaN</td>\n",
              "    </tr>\n",
              "    <tr>\n",
              "      <th>98</th>\n",
              "      <td>I just got my Lenovo Smart Display yesterday a...</td>\n",
              "      <td>english</td>\n",
              "      <td>NaN</td>\n",
              "      <td>NaN</td>\n",
              "      <td>http://omgili.com/ri/.wHSUbtEfZQ2F8au4ugZad_J4...</td>\n",
              "      <td>Lenovo Smart Display isn't playing YouTube TV</td>\n",
              "      <td>https://www.reddit.com/r/googlehome</td>\n",
              "      <td>Everything Google Home</td>\n",
              "      <td>2018-11-13T15:18:00.000+02:00</td>\n",
              "      <td>2</td>\n",
              "      <td>1</td>\n",
              "      <td>discussions</td>\n",
              "      <td>reddit.com</td>\n",
              "      <td>US</td>\n",
              "      <td>0</td>\n",
              "      <td>NaN</td>\n",
              "    </tr>\n",
              "    <tr>\n",
              "      <th>99</th>\n",
              "      <td>Here is the image I am getting: https://imgur....</td>\n",
              "      <td>english</td>\n",
              "      <td>https://imgur.com/QrzdtjY ,</td>\n",
              "      <td>NaN</td>\n",
              "      <td>http://omgili.com/ri/.wHSUbtEfZQ2F8au4ugZad_J4...</td>\n",
              "      <td>Lenovo Smart Display isn't playing YouTube TV</td>\n",
              "      <td>https://www.reddit.com/r/googlehome</td>\n",
              "      <td>Everything Google Home</td>\n",
              "      <td>2018-11-13T15:18:00.000+02:00</td>\n",
              "      <td>2</td>\n",
              "      <td>1</td>\n",
              "      <td>discussions</td>\n",
              "      <td>reddit.com</td>\n",
              "      <td>US</td>\n",
              "      <td>0</td>\n",
              "      <td>NaN</td>\n",
              "    </tr>\n",
              "  </tbody>\n",
              "</table>\n",
              "<p>100 rows × 16 columns</p>\n",
              "</div>"
            ],
            "text/plain": [
              "                                                 Text  ... Rating\n",
              "0   follow 2 Like\\nIn previous articles we reviewe...  ...    NaN\n",
              "1   Visit TutsGalaxy.com for tutorials & free cour...  ...    NaN\n",
              "2                I'm so sorry you had to witness this  ...    NaN\n",
              "3                                     yikers&cringers  ...    NaN\n",
              "4   Home / Music / shiv bhola bhala gora beth bole...  ...    NaN\n",
              "..                                                ...  ...    ...\n",
              "95                                   Ksenia Bogdanova  ...    NaN\n",
              "96                                            Красота  ...    NaN\n",
              "97  Just put the rod about half way between top of...  ...    NaN\n",
              "98  I just got my Lenovo Smart Display yesterday a...  ...    NaN\n",
              "99  Here is the image I am getting: https://imgur....  ...    NaN\n",
              "\n",
              "[100 rows x 16 columns]"
            ]
          },
          "metadata": {
            "tags": []
          },
          "execution_count": 110
        }
      ]
    },
    {
      "cell_type": "code",
      "metadata": {
        "id": "la8wB9sjE8bc",
        "colab_type": "code",
        "colab": {}
      },
      "source": [
        "data['category_id'] = data['Category'].factorize()[0]"
      ],
      "execution_count": 0,
      "outputs": []
    },
    {
      "cell_type": "code",
      "metadata": {
        "id": "_qXmI73YEcnB",
        "colab_type": "code",
        "outputId": "c8ab60a8-b81e-4176-d315-f6d42fbd2a0c",
        "colab": {
          "base_uri": "https://localhost:8080/",
          "height": 217
        }
      },
      "source": [
        "data['Category'][0:10]"
      ],
      "execution_count": 0,
      "outputs": [
        {
          "output_type": "execute_result",
          "data": {
            "text/plain": [
              "0           news\n",
              "1          blogs\n",
              "2    discussions\n",
              "3    discussions\n",
              "4           news\n",
              "5           news\n",
              "6    discussions\n",
              "7          blogs\n",
              "8    discussions\n",
              "9    discussions\n",
              "Name: Category, dtype: object"
            ]
          },
          "metadata": {
            "tags": []
          },
          "execution_count": 115
        }
      ]
    },
    {
      "cell_type": "code",
      "metadata": {
        "id": "hW0ZeVdPEtFw",
        "colab_type": "code",
        "colab": {}
      },
      "source": [
        "category_id_data = data[['Category', 'category_id']].drop_duplicates().sort_values('category_id')"
      ],
      "execution_count": 0,
      "outputs": []
    },
    {
      "cell_type": "code",
      "metadata": {
        "id": "Vd1q28DFFHPD",
        "colab_type": "code",
        "outputId": "37ff61ff-8b81-4ee3-f3f9-5b93d152739f",
        "colab": {
          "base_uri": "https://localhost:8080/",
          "height": 138
        }
      },
      "source": [
        "category_id_data"
      ],
      "execution_count": 0,
      "outputs": [
        {
          "output_type": "execute_result",
          "data": {
            "text/html": [
              "<div>\n",
              "<style scoped>\n",
              "    .dataframe tbody tr th:only-of-type {\n",
              "        vertical-align: middle;\n",
              "    }\n",
              "\n",
              "    .dataframe tbody tr th {\n",
              "        vertical-align: top;\n",
              "    }\n",
              "\n",
              "    .dataframe thead th {\n",
              "        text-align: right;\n",
              "    }\n",
              "</style>\n",
              "<table border=\"1\" class=\"dataframe\">\n",
              "  <thead>\n",
              "    <tr style=\"text-align: right;\">\n",
              "      <th></th>\n",
              "      <th>Category</th>\n",
              "      <th>category_id</th>\n",
              "    </tr>\n",
              "  </thead>\n",
              "  <tbody>\n",
              "    <tr>\n",
              "      <th>0</th>\n",
              "      <td>news</td>\n",
              "      <td>0</td>\n",
              "    </tr>\n",
              "    <tr>\n",
              "      <th>1</th>\n",
              "      <td>blogs</td>\n",
              "      <td>1</td>\n",
              "    </tr>\n",
              "    <tr>\n",
              "      <th>2</th>\n",
              "      <td>discussions</td>\n",
              "      <td>2</td>\n",
              "    </tr>\n",
              "  </tbody>\n",
              "</table>\n",
              "</div>"
            ],
            "text/plain": [
              "      Category  category_id\n",
              "0         news            0\n",
              "1        blogs            1\n",
              "2  discussions            2"
            ]
          },
          "metadata": {
            "tags": []
          },
          "execution_count": 117
        }
      ]
    },
    {
      "cell_type": "code",
      "metadata": {
        "id": "WkH2BxrgGJ-Z",
        "colab_type": "code",
        "colab": {}
      },
      "source": [
        "category_to_id = dict(category_id_data.values)\n",
        "id_to_category = dict(category_id_data[['category_id', 'Category']].values)"
      ],
      "execution_count": 0,
      "outputs": []
    },
    {
      "cell_type": "code",
      "metadata": {
        "id": "JX7WopUGGQVP",
        "colab_type": "code",
        "outputId": "175f92aa-88c2-4aab-b01e-9600fcb6c3e4",
        "colab": {
          "base_uri": "https://localhost:8080/",
          "height": 35
        }
      },
      "source": [
        "id_to_category"
      ],
      "execution_count": 0,
      "outputs": [
        {
          "output_type": "execute_result",
          "data": {
            "text/plain": [
              "{0: 'news', 1: 'blogs', 2: 'discussions'}"
            ]
          },
          "metadata": {
            "tags": []
          },
          "execution_count": 119
        }
      ]
    },
    {
      "cell_type": "code",
      "metadata": {
        "id": "FbvQ8jyqGW4h",
        "colab_type": "code",
        "outputId": "29ff32f5-2ae0-41e9-8c0a-34eb534d1341",
        "colab": {
          "base_uri": "https://localhost:8080/",
          "height": 443
        }
      },
      "source": [
        "data.sample(5, random_state=0)"
      ],
      "execution_count": 0,
      "outputs": [
        {
          "output_type": "execute_result",
          "data": {
            "text/html": [
              "<div>\n",
              "<style scoped>\n",
              "    .dataframe tbody tr th:only-of-type {\n",
              "        vertical-align: middle;\n",
              "    }\n",
              "\n",
              "    .dataframe tbody tr th {\n",
              "        vertical-align: top;\n",
              "    }\n",
              "\n",
              "    .dataframe thead th {\n",
              "        text-align: right;\n",
              "    }\n",
              "</style>\n",
              "<table border=\"1\" class=\"dataframe\">\n",
              "  <thead>\n",
              "    <tr style=\"text-align: right;\">\n",
              "      <th></th>\n",
              "      <th>Text</th>\n",
              "      <th>Language</th>\n",
              "      <th>External Links</th>\n",
              "      <th>Mentioned Locations</th>\n",
              "      <th>Thread Link</th>\n",
              "      <th>Title.1</th>\n",
              "      <th>Section Link</th>\n",
              "      <th>Section Title</th>\n",
              "      <th>Thread Publication Date</th>\n",
              "      <th>Comments Count</th>\n",
              "      <th>Participants Count</th>\n",
              "      <th>Category</th>\n",
              "      <th>Site Name</th>\n",
              "      <th>Site Country</th>\n",
              "      <th>Performance Score</th>\n",
              "      <th>Rating</th>\n",
              "      <th>category_id</th>\n",
              "    </tr>\n",
              "  </thead>\n",
              "  <tbody>\n",
              "    <tr>\n",
              "      <th>26</th>\n",
              "      <td>A great song that should appeal to sci-fi fans...</td>\n",
              "      <td>english</td>\n",
              "      <td>https://www.youtube.com/embed/kE8kGMfXaFU ,</td>\n",
              "      <td>NaN</td>\n",
              "      <td>http://omgili.com/ri/.wHSUbtEfZRMOBUjtaxGMj6Ls...</td>\n",
              "      <td>JCC - what song are you listening to? (v. 47) ...</td>\n",
              "      <td>https://boards.theforce.net/forums/community.1...</td>\n",
              "      <td>Community | Jedi Council Forums</td>\n",
              "      <td>2018-11-13T11:30:00.000+02:00</td>\n",
              "      <td>1</td>\n",
              "      <td>2</td>\n",
              "      <td>discussions</td>\n",
              "      <td>theforce.net</td>\n",
              "      <td>US</td>\n",
              "      <td>0</td>\n",
              "      <td>NaN</td>\n",
              "      <td>2</td>\n",
              "    </tr>\n",
              "    <tr>\n",
              "      <th>86</th>\n",
              "      <td>Configuration files for a new Appliance Hello ...</td>\n",
              "      <td>english</td>\n",
              "      <td>NaN</td>\n",
              "      <td>NaN</td>\n",
              "      <td>http://omgili.com/ri/.wHSUbtEfZRkHNIPNVgsK6ofm...</td>\n",
              "      <td>Configuration files for a new Appliance</td>\n",
              "      <td>https://communities.bmc.com/community/bmcdn</td>\n",
              "      <td>Space: Products | BMC Communities</td>\n",
              "      <td>2018-11-13T15:03:00.000+02:00</td>\n",
              "      <td>6</td>\n",
              "      <td>2</td>\n",
              "      <td>discussions</td>\n",
              "      <td>bmc.com</td>\n",
              "      <td>US</td>\n",
              "      <td>0</td>\n",
              "      <td>NaN</td>\n",
              "      <td>2</td>\n",
              "    </tr>\n",
              "    <tr>\n",
              "      <th>2</th>\n",
              "      <td>I'm so sorry you had to witness this</td>\n",
              "      <td>english</td>\n",
              "      <td>NaN</td>\n",
              "      <td>NaN</td>\n",
              "      <td>http://omgili.com/ri/_0JOtn.4SCoF5VTZjCccpVxqD...</td>\n",
              "      <td>.</td>\n",
              "      <td>http://boards.4chan.org/int/</td>\n",
              "      <td>/int/ - International - 4chan</td>\n",
              "      <td>2018-11-13T16:52:00.000+02:00</td>\n",
              "      <td>140</td>\n",
              "      <td>1</td>\n",
              "      <td>discussions</td>\n",
              "      <td>4chan.org</td>\n",
              "      <td>US</td>\n",
              "      <td>0</td>\n",
              "      <td>NaN</td>\n",
              "      <td>2</td>\n",
              "    </tr>\n",
              "    <tr>\n",
              "      <th>55</th>\n",
              "      <td>&gt;&gt;97398842\\n*slavshits and Finngrelians, I sho...</td>\n",
              "      <td>english</td>\n",
              "      <td>NaN</td>\n",
              "      <td>NaN</td>\n",
              "      <td>http://omgili.com/ri/_0JOtn.4SCoF5VTZjCccpVxqD...</td>\n",
              "      <td>.</td>\n",
              "      <td>http://boards.4chan.org/int/</td>\n",
              "      <td>/int/ - International - 4chan</td>\n",
              "      <td>2018-11-13T16:52:00.000+02:00</td>\n",
              "      <td>140</td>\n",
              "      <td>1</td>\n",
              "      <td>discussions</td>\n",
              "      <td>4chan.org</td>\n",
              "      <td>US</td>\n",
              "      <td>0</td>\n",
              "      <td>NaN</td>\n",
              "      <td>2</td>\n",
              "    </tr>\n",
              "    <tr>\n",
              "      <th>75</th>\n",
              "      <td>&gt;&gt;97399112\\n&gt;Nunnan elite graves\\nCringe\\n&gt;In ...</td>\n",
              "      <td>english</td>\n",
              "      <td>NaN</td>\n",
              "      <td>NaN</td>\n",
              "      <td>http://omgili.com/ri/_0JOtn.4SCoF5VTZjCccpVxqD...</td>\n",
              "      <td>.</td>\n",
              "      <td>http://boards.4chan.org/int/</td>\n",
              "      <td>/int/ - International - 4chan</td>\n",
              "      <td>2018-11-13T16:52:00.000+02:00</td>\n",
              "      <td>140</td>\n",
              "      <td>1</td>\n",
              "      <td>discussions</td>\n",
              "      <td>4chan.org</td>\n",
              "      <td>US</td>\n",
              "      <td>0</td>\n",
              "      <td>NaN</td>\n",
              "      <td>2</td>\n",
              "    </tr>\n",
              "  </tbody>\n",
              "</table>\n",
              "</div>"
            ],
            "text/plain": [
              "                                                 Text  ... category_id\n",
              "26  A great song that should appeal to sci-fi fans...  ...           2\n",
              "86  Configuration files for a new Appliance Hello ...  ...           2\n",
              "2                I'm so sorry you had to witness this  ...           2\n",
              "55  >>97398842\\n*slavshits and Finngrelians, I sho...  ...           2\n",
              "75  >>97399112\\n>Nunnan elite graves\\nCringe\\n>In ...  ...           2\n",
              "\n",
              "[5 rows x 17 columns]"
            ]
          },
          "metadata": {
            "tags": []
          },
          "execution_count": 120
        }
      ]
    },
    {
      "cell_type": "code",
      "metadata": {
        "id": "iIxGX1sSGmcP",
        "colab_type": "code",
        "outputId": "e868987b-dab0-4cef-e22e-6eb377675be1",
        "colab": {
          "base_uri": "https://localhost:8080/",
          "height": 108
        }
      },
      "source": [
        "data.groupby('Category').category_id.count()"
      ],
      "execution_count": 0,
      "outputs": [
        {
          "output_type": "execute_result",
          "data": {
            "text/plain": [
              "Category\n",
              "blogs          17\n",
              "discussions    68\n",
              "news           15\n",
              "Name: category_id, dtype: int64"
            ]
          },
          "metadata": {
            "tags": []
          },
          "execution_count": 121
        }
      ]
    },
    {
      "cell_type": "code",
      "metadata": {
        "id": "gaUmRfGXGtCS",
        "colab_type": "code",
        "outputId": "71e4b9ca-a436-45e4-b057-5fd69e5c61cf",
        "colab": {
          "base_uri": "https://localhost:8080/",
          "height": 345
        }
      },
      "source": [
        "data.groupby('Category').category_id.count().plot.bar(ylim=0)"
      ],
      "execution_count": 0,
      "outputs": [
        {
          "output_type": "execute_result",
          "data": {
            "text/plain": [
              "<matplotlib.axes._subplots.AxesSubplot at 0x7fb2a27fc710>"
            ]
          },
          "metadata": {
            "tags": []
          },
          "execution_count": 122
        },
        {
          "output_type": "display_data",
          "data": {
            "image/png": "[encoded data removed]",
            "text/plain": [
              "<Figure size 432x288 with 1 Axes>"
            ]
          },
          "metadata": {
            "tags": [],
            "needs_background": "light"
          }
        }
      ]
    },
    {
      "cell_type": "code",
      "metadata": {
        "id": "nh-ItD5kHHPY",
        "colab_type": "code",
        "colab": {}
      },
      "source": [
        "from sklearn.feature_extraction.text import TfidfVectorizer\n",
        "\n",
        "tfidf = TfidfVectorizer(sublinear_tf=True, min_df=5, norm='l2', encoding='latin-1', ngram_range=(1, 2), stop_words='english')\n",
        "\n",
        "features = tfidf.fit_transform(data['Text'].values.astype('U'))\n",
        "labels = data.category_id\n",
        "\n",
        " "
      ],
      "execution_count": 0,
      "outputs": []
    },
    {
      "cell_type": "code",
      "metadata": {
        "id": "0-55eysdJxpC",
        "colab_type": "code",
        "outputId": "7123cec3-ac27-43b7-b236-68e68ea78bb3",
        "colab": {
          "base_uri": "https://localhost:8080/",
          "height": 35
        }
      },
      "source": [
        "features.shape"
      ],
      "execution_count": 0,
      "outputs": [
        {
          "output_type": "execute_result",
          "data": {
            "text/plain": [
              "(100, 107)"
            ]
          },
          "metadata": {
            "tags": []
          },
          "execution_count": 133
        }
      ]
    },
    {
      "cell_type": "code",
      "metadata": {
        "id": "zKha-e8MJ02g",
        "colab_type": "code",
        "outputId": "625eb00b-66b4-4e3f-b08f-7b7c481e075d",
        "colab": {
          "base_uri": "https://localhost:8080/",
          "height": 35
        }
      },
      "source": [
        "category_to_id.items()"
      ],
      "execution_count": 0,
      "outputs": [
        {
          "output_type": "execute_result",
          "data": {
            "text/plain": [
              "dict_items([('news', 0), ('blogs', 1), ('discussions', 2)])"
            ]
          },
          "metadata": {
            "tags": []
          },
          "execution_count": 134
        }
      ]
    },
    {
      "cell_type": "code",
      "metadata": {
        "id": "dnKDH2j2J5eR",
        "colab_type": "code",
        "outputId": "b0830690-796a-497c-f987-08e1770b1b67",
        "colab": {
          "base_uri": "https://localhost:8080/",
          "height": 35
        }
      },
      "source": [
        "sorted(category_to_id.items())"
      ],
      "execution_count": 0,
      "outputs": [
        {
          "output_type": "execute_result",
          "data": {
            "text/plain": [
              "[('blogs', 1), ('discussions', 2), ('news', 0)]"
            ]
          },
          "metadata": {
            "tags": []
          },
          "execution_count": 135
        }
      ]
    },
    {
      "cell_type": "code",
      "metadata": {
        "id": "dqp_BGi-KAyW",
        "colab_type": "code",
        "outputId": "5e71e3b4-bbc5-4e24-c0ac-304e2eb9a629",
        "colab": {
          "base_uri": "https://localhost:8080/",
          "height": 508
        }
      },
      "source": [
        "# Use chi-square analysis to find corelation between features (importantce of words) and labels(news category) \n",
        "import numpy as np\n",
        "from sklearn.feature_selection import chi2\n",
        "\n",
        "N = 3  # We are going to look for top 3 categories\n",
        "\n",
        "#For each category, find words that are highly corelated to it\n",
        "for Category, category_id in sorted(category_to_id.items()):\n",
        "  features_chi2 = chi2(features, labels == category_id)                   # Do chi2 analyses of all items in this category\n",
        "  indices = np.argsort(features_chi2[0])                                  # Sorts the indices of features_chi2[0] - the chi-squared stats of each feature\n",
        "  feature_names = np.array(tfidf.get_feature_names())[indices]            # Converts indices to feature names ( in increasing order of chi-squared stat values)\n",
        "  unigrams = [v for v in feature_names if len(v.split(' ')) == 1]         # List of single word features ( in increasing order of chi-squared stat values)\n",
        "  bigrams = [v for v in feature_names if len(v.split(' ')) == 2]          # List for two-word features ( in increasing order of chi-squared stat values)\n",
        "  print(\"# '{}':\".format(Category))\n",
        "  print(\"  . Most correlated unigrams:\\n       . {}\".format('\\n       . '.join(unigrams[-N:]))) # Print 3 unigrams with highest Chi squared stat\n",
        "  print(\"  . Most correlated bigrams:\\n       . {}\".format('\\n       . '.join(bigrams[-N:]))) # Print 3 bigrams with highest Chi squared stat"
      ],
      "execution_count": 0,
      "outputs": [
        {
          "output_type": "stream",
          "text": [
            "# 'blogs':\n",
            "  . Most correlated unigrams:\n",
            "       . number\n",
            "       . place\n",
            "       . easy\n",
            "  . Most correlated bigrams:\n",
            "       . little mix\n",
            "       . quote quote\n",
            "       . 13 november\n",
            "# 'discussions':\n",
            "  . Most correlated unigrams:\n",
            "       . free\n",
            "       . november\n",
            "       . 13\n",
            "  . Most correlated bigrams:\n",
            "       . little mix\n",
            "       . quote quote\n",
            "       . 13 november\n",
            "# 'news':\n",
            "  . Most correlated unigrams:\n",
            "       . year\n",
            "       . home\n",
            "       . said\n",
            "  . Most correlated bigrams:\n",
            "       . little mix\n",
            "       . quote quote\n",
            "       . 13 november\n"
          ],
          "name": "stdout"
        }
      ]
    },
    {
      "cell_type": "code",
      "metadata": {
        "id": "nolPrm8vKU3C",
        "colab_type": "code",
        "outputId": "8060c18f-1691-437e-db32-202499a2d3a4",
        "colab": {
          "base_uri": "https://localhost:8080/",
          "height": 908
        }
      },
      "source": [
        "features_chi2"
      ],
      "execution_count": 0,
      "outputs": [
        {
          "output_type": "execute_result",
          "data": {
            "text/plain": [
              "(array([9.90228620e-01, 3.52780396e-03, 6.24418938e+00, 2.09200857e+00,\n",
              "        3.65645737e+00, 1.26293480e-03, 1.68944498e-01, 1.68944498e-01,\n",
              "        3.92458313e-05, 7.85225400e-02, 6.25375390e-02, 1.68944498e-01,\n",
              "        3.60564706e-01, 1.20979741e-01, 1.68944498e-01, 1.39556270e+00,\n",
              "        1.20114573e-01, 1.52816133e+00, 7.29029837e-02, 9.85072979e-02,\n",
              "        4.01733907e-02, 3.22375884e-02, 9.60948722e-03, 3.18460405e-01,\n",
              "        7.19217025e-04, 3.22822217e-01, 3.63538423e+00, 2.88690427e-01,\n",
              "        4.69042844e-01, 5.54448563e-01, 6.52837471e-01, 4.63559589e-02,\n",
              "        7.54364587e-02, 1.20979741e-01, 1.20979741e-01, 1.20979741e-01,\n",
              "        1.95245584e+00, 6.59487396e-03, 1.20979741e-01, 1.20979741e-01,\n",
              "        5.98882401e-02, 4.33368897e-02, 1.29761522e+00, 5.58790622e-01,\n",
              "        3.41606003e-01, 1.20979741e-01, 7.78766208e+00, 2.45918523e-01,\n",
              "        5.09429365e-02, 5.96412968e-02, 1.68944498e-01, 1.53674289e+00,\n",
              "        1.28128941e-01, 2.45718924e-01, 1.68944498e-01, 2.59197923e-01,\n",
              "        2.32199436e-01, 1.31121339e-02, 2.95982246e-02, 1.42098622e-01,\n",
              "        2.98676930e-02, 2.43750871e-01, 4.28571996e-01, 4.05604844e-01,\n",
              "        2.43750871e-01, 1.68944498e-01, 1.64629337e-01, 2.23980635e-01,\n",
              "        4.89981939e+00, 1.25104974e-01, 7.98955767e-02, 1.33449959e+00,\n",
              "        3.35212871e-01, 1.05806528e+00, 4.05267447e-01, 1.68944498e-01,\n",
              "        3.43964989e-01, 2.39555577e-01, 1.68944498e-01, 9.53931839e-02,\n",
              "        1.20979741e-01, 2.51403345e+00, 7.16695388e-01, 1.20979741e-01,\n",
              "        1.20979741e-01, 9.94981288e-01, 1.03086192e+01, 2.67241539e-03,\n",
              "        1.11425042e-01, 2.51440113e-03, 1.20979741e-01, 1.13876088e+00,\n",
              "        1.34268307e-01, 4.66912997e-01, 5.00835613e-05, 8.43430703e-03,\n",
              "        1.68944498e-01, 1.20979741e-01, 2.06521114e+00, 4.85403570e-02,\n",
              "        4.79558411e-02, 4.42176807e-01, 5.39350233e-02, 1.93280726e-01,\n",
              "        3.50484500e-02, 6.75257414e-02, 6.61756102e+00]),\n",
              " array([0.3196865 , 0.95263724, 0.01246014, 0.14807128, 0.05585227,\n",
              "        0.97165091, 0.68105157, 0.68105157, 0.99500157, 0.77930969,\n",
              "        0.8025293 , 0.68105157, 0.54819278, 0.7279743 , 0.68105157,\n",
              "        0.23746793, 0.72891026, 0.21638861, 0.787156  , 0.75362834,\n",
              "        0.84114195, 0.8575072 , 0.92191007, 0.57253436, 0.97860472,\n",
              "        0.56991651, 0.05656355, 0.59106096, 0.49342783, 0.45650569,\n",
              "        0.41910003, 0.82953005, 0.78357978, 0.7279743 , 0.7279743 ,\n",
              "        0.7279743 , 0.16232246, 0.93527588, 0.7279743 , 0.7279743 ,\n",
              "        0.80667267, 0.83509222, 0.25464929, 0.45474793, 0.55890367,\n",
              "        0.7279743 , 0.00526042, 0.61996375, 0.82143054, 0.80706379,\n",
              "        0.68105157, 0.21510327, 0.72037996, 0.62010578, 0.68105157,\n",
              "        0.61067173, 0.62989775, 0.90883493, 0.86340502, 0.70620355,\n",
              "        0.86279078, 0.62151007, 0.51269048, 0.52420879, 0.62151007,\n",
              "        0.68105157, 0.68492967, 0.63602347, 0.0268595 , 0.72356236,\n",
              "        0.77743897, 0.24800631, 0.56260556, 0.30365687, 0.52438139,\n",
              "        0.68105157, 0.55754945, 0.62452728, 0.68105157, 0.75742965,\n",
              "        0.7279743 , 0.1128368 , 0.39723003, 0.7279743 , 0.7279743 ,\n",
              "        0.31852794, 0.0013241 , 0.95877139, 0.73852754, 0.96000779,\n",
              "        0.7279743 , 0.28591431, 0.71404692, 0.49441077, 0.99435344,\n",
              "        0.92682637, 0.68105157, 0.7279743 , 0.15069406, 0.82562291,\n",
              "        0.82665922, 0.50607367, 0.81635227, 0.66020001, 0.85149417,\n",
              "        0.79497396, 0.0100978 ]))"
            ]
          },
          "metadata": {
            "tags": []
          },
          "execution_count": 138
        }
      ]
    },
    {
      "cell_type": "code",
      "metadata": {
        "id": "oyVkyq0PLOkW",
        "colab_type": "code",
        "colab": {}
      },
      "source": [
        "from sklearn.linear_model import LogisticRegression\n",
        "from sklearn.ensemble import RandomForestClassifier\n",
        "from sklearn.naive_bayes import MultinomialNB\n",
        "\n",
        "from sklearn.model_selection import cross_val_score\n",
        "\n",
        "\n",
        "models = [\n",
        "    RandomForestClassifier(n_estimators=200, max_depth=3, random_state=0),\n",
        "    MultinomialNB(),\n",
        "    LogisticRegression(random_state=0),\n",
        "]"
      ],
      "execution_count": 0,
      "outputs": []
    },
    {
      "cell_type": "code",
      "metadata": {
        "id": "mdorQpQfLT0c",
        "colab_type": "code",
        "colab": {}
      },
      "source": [
        "CV = 5  # Cross Validate with 5 different folds of 20% data ( 80-20 split with 5 folds )\n",
        "\n",
        "#Create a data frame that will store the results for all 5 trials of the 3 different models\n",
        "cv_data = pd.DataFrame(index=range(CV * len(models)))\n",
        "entries = [] # Initially all entries are empty"
      ],
      "execution_count": 0,
      "outputs": []
    },
    {
      "cell_type": "code",
      "metadata": {
        "id": "ALPNk9JFLZ1n",
        "colab_type": "code",
        "colab": {}
      },
      "source": [
        "#For each Algorithm \n",
        "for model in models:\n",
        "  model_name = model.__class__.__name__\n",
        "  # create 5 models with different 20% test sets, and store their accuracies\n",
        "  accuracies = cross_val_score(model, features, labels, scoring='accuracy', cv=CV)\n",
        "  # Append all 5 accuracies into the entries list ( after all 3 models are run, there will be 3x5 = 15 entries)\n",
        "  for fold_idx, accuracy in enumerate(accuracies):\n",
        "    entries.append((model_name, fold_idx, accuracy))"
      ],
      "execution_count": 0,
      "outputs": []
    },
    {
      "cell_type": "code",
      "metadata": {
        "id": "-cYO70p6Lemo",
        "colab_type": "code",
        "colab": {}
      },
      "source": [
        "cv_data = pd.DataFrame(entries, columns=['model_name', 'fold_idx', 'accuracy'])"
      ],
      "execution_count": 0,
      "outputs": []
    },
    {
      "cell_type": "code",
      "metadata": {
        "id": "ZT4vSIBlLuFz",
        "colab_type": "code",
        "outputId": "7eda1532-5b82-4c27-eb8a-3c93afe84037",
        "colab": {
          "base_uri": "https://localhost:8080/",
          "height": 298
        }
      },
      "source": [
        "import seaborn as sns\n",
        "\n",
        "sns.boxplot(x='model_name', y='accuracy', data=cv_data)\n",
        "sns.stripplot(x='model_name', y='accuracy', data=cv_data, \n",
        "              size=8, jitter=True, edgecolor=\"gray\", linewidth=2)"
      ],
      "execution_count": 0,
      "outputs": [
        {
          "output_type": "execute_result",
          "data": {
            "text/plain": [
              "<matplotlib.axes._subplots.AxesSubplot at 0x7fb29da23828>"
            ]
          },
          "metadata": {
            "tags": []
          },
          "execution_count": 147
        },
        {
          "output_type": "display_data",
          "data": {
            "image/png": "[encoded data removed]",
            "text/plain": [
              "<Figure size 432x288 with 1 Axes>"
            ]
          },
          "metadata": {
            "tags": [],
            "needs_background": "light"
          }
        }
      ]
    },
    {
      "cell_type": "code",
      "metadata": {
        "id": "iBUvrgHuLmac",
        "colab_type": "code",
        "outputId": "3d9524e7-745e-42f6-b7aa-7f76f87097eb",
        "colab": {
          "base_uri": "https://localhost:8080/",
          "height": 108
        }
      },
      "source": [
        "# Mean accuracy of each algorithm\n",
        "cv_data.groupby('model_name').accuracy.mean()"
      ],
      "execution_count": 0,
      "outputs": [
        {
          "output_type": "execute_result",
          "data": {
            "text/plain": [
              "model_name\n",
              "LogisticRegression        0.71\n",
              "MultinomialNB             0.73\n",
              "RandomForestClassifier    0.70\n",
              "Name: accuracy, dtype: float64"
            ]
          },
          "metadata": {
            "tags": []
          },
          "execution_count": 148
        }
      ]
    },
    {
      "cell_type": "code",
      "metadata": {
        "id": "neoscM_aL9lq",
        "colab_type": "code",
        "outputId": "c20ccbb6-4069-41f6-de17-65619857fe6c",
        "colab": {
          "base_uri": "https://localhost:8080/",
          "height": 498
        }
      },
      "source": [
        "cv_data"
      ],
      "execution_count": 0,
      "outputs": [
        {
          "output_type": "execute_result",
          "data": {
            "text/html": [
              "<div>\n",
              "<style scoped>\n",
              "    .dataframe tbody tr th:only-of-type {\n",
              "        vertical-align: middle;\n",
              "    }\n",
              "\n",
              "    .dataframe tbody tr th {\n",
              "        vertical-align: top;\n",
              "    }\n",
              "\n",
              "    .dataframe thead th {\n",
              "        text-align: right;\n",
              "    }\n",
              "</style>\n",
              "<table border=\"1\" class=\"dataframe\">\n",
              "  <thead>\n",
              "    <tr style=\"text-align: right;\">\n",
              "      <th></th>\n",
              "      <th>model_name</th>\n",
              "      <th>fold_idx</th>\n",
              "      <th>accuracy</th>\n",
              "    </tr>\n",
              "  </thead>\n",
              "  <tbody>\n",
              "    <tr>\n",
              "      <th>0</th>\n",
              "      <td>RandomForestClassifier</td>\n",
              "      <td>0</td>\n",
              "      <td>0.65</td>\n",
              "    </tr>\n",
              "    <tr>\n",
              "      <th>1</th>\n",
              "      <td>RandomForestClassifier</td>\n",
              "      <td>1</td>\n",
              "      <td>0.70</td>\n",
              "    </tr>\n",
              "    <tr>\n",
              "      <th>2</th>\n",
              "      <td>RandomForestClassifier</td>\n",
              "      <td>2</td>\n",
              "      <td>0.70</td>\n",
              "    </tr>\n",
              "    <tr>\n",
              "      <th>3</th>\n",
              "      <td>RandomForestClassifier</td>\n",
              "      <td>3</td>\n",
              "      <td>0.75</td>\n",
              "    </tr>\n",
              "    <tr>\n",
              "      <th>4</th>\n",
              "      <td>RandomForestClassifier</td>\n",
              "      <td>4</td>\n",
              "      <td>0.70</td>\n",
              "    </tr>\n",
              "    <tr>\n",
              "      <th>5</th>\n",
              "      <td>MultinomialNB</td>\n",
              "      <td>0</td>\n",
              "      <td>0.65</td>\n",
              "    </tr>\n",
              "    <tr>\n",
              "      <th>6</th>\n",
              "      <td>MultinomialNB</td>\n",
              "      <td>1</td>\n",
              "      <td>0.70</td>\n",
              "    </tr>\n",
              "    <tr>\n",
              "      <th>7</th>\n",
              "      <td>MultinomialNB</td>\n",
              "      <td>2</td>\n",
              "      <td>0.75</td>\n",
              "    </tr>\n",
              "    <tr>\n",
              "      <th>8</th>\n",
              "      <td>MultinomialNB</td>\n",
              "      <td>3</td>\n",
              "      <td>0.80</td>\n",
              "    </tr>\n",
              "    <tr>\n",
              "      <th>9</th>\n",
              "      <td>MultinomialNB</td>\n",
              "      <td>4</td>\n",
              "      <td>0.75</td>\n",
              "    </tr>\n",
              "    <tr>\n",
              "      <th>10</th>\n",
              "      <td>LogisticRegression</td>\n",
              "      <td>0</td>\n",
              "      <td>0.65</td>\n",
              "    </tr>\n",
              "    <tr>\n",
              "      <th>11</th>\n",
              "      <td>LogisticRegression</td>\n",
              "      <td>1</td>\n",
              "      <td>0.70</td>\n",
              "    </tr>\n",
              "    <tr>\n",
              "      <th>12</th>\n",
              "      <td>LogisticRegression</td>\n",
              "      <td>2</td>\n",
              "      <td>0.75</td>\n",
              "    </tr>\n",
              "    <tr>\n",
              "      <th>13</th>\n",
              "      <td>LogisticRegression</td>\n",
              "      <td>3</td>\n",
              "      <td>0.75</td>\n",
              "    </tr>\n",
              "    <tr>\n",
              "      <th>14</th>\n",
              "      <td>LogisticRegression</td>\n",
              "      <td>4</td>\n",
              "      <td>0.70</td>\n",
              "    </tr>\n",
              "  </tbody>\n",
              "</table>\n",
              "</div>"
            ],
            "text/plain": [
              "                model_name  fold_idx  accuracy\n",
              "0   RandomForestClassifier         0      0.65\n",
              "1   RandomForestClassifier         1      0.70\n",
              "2   RandomForestClassifier         2      0.70\n",
              "3   RandomForestClassifier         3      0.75\n",
              "4   RandomForestClassifier         4      0.70\n",
              "5            MultinomialNB         0      0.65\n",
              "6            MultinomialNB         1      0.70\n",
              "7            MultinomialNB         2      0.75\n",
              "8            MultinomialNB         3      0.80\n",
              "9            MultinomialNB         4      0.75\n",
              "10      LogisticRegression         0      0.65\n",
              "11      LogisticRegression         1      0.70\n",
              "12      LogisticRegression         2      0.75\n",
              "13      LogisticRegression         3      0.75\n",
              "14      LogisticRegression         4      0.70"
            ]
          },
          "metadata": {
            "tags": []
          },
          "execution_count": 149
        }
      ]
    },
    {
      "cell_type": "code",
      "metadata": {
        "id": "YGeAAOhNME7C",
        "colab_type": "code",
        "colab": {}
      },
      "source": [
        "from sklearn.model_selection import train_test_split\n",
        "\n",
        "model = LogisticRegression(random_state=0)\n",
        "\n",
        "#Split Data \n",
        "X_train, X_test, y_train, y_test, indices_train, indices_test = train_test_split(features, labels, data.index, test_size=0.33, random_state=0)\n",
        "\n",
        "#Train Algorithm\n",
        "model.fit(X_train, y_train)\n",
        "\n",
        "# Make Predictions\n",
        "y_pred_proba = model.predict_proba(X_test)\n",
        "y_pred = model.predict(X_test)"
      ],
      "execution_count": 0,
      "outputs": []
    },
    {
      "cell_type": "code",
      "metadata": {
        "id": "xEj4pr9_MNzY",
        "colab_type": "code",
        "outputId": "26e43086-6c27-44a2-ebb7-60cb69b4484f",
        "colab": {
          "base_uri": "https://localhost:8080/",
          "height": 297
        }
      },
      "source": [
        "from sklearn.metrics import confusion_matrix\n",
        "import matplotlib.pyplot as plt\n",
        "import seaborn as sns\n",
        "\n",
        "conf_mat = confusion_matrix(y_test, y_pred)\n",
        "sns.heatmap(conf_mat, annot=True, fmt='d',\n",
        "            xticklabels=category_id_data.Category.values, yticklabels=category_id_data.Category.values)\n",
        "plt.ylabel('Actual')\n",
        "plt.xlabel('Predicted')"
      ],
      "execution_count": 0,
      "outputs": [
        {
          "output_type": "execute_result",
          "data": {
            "text/plain": [
              "Text(0.5, 15.0, 'Predicted')"
            ]
          },
          "metadata": {
            "tags": []
          },
          "execution_count": 157
        },
        {
          "output_type": "display_data",
          "data": {
            "image/png": "[encoded data removed]",
            "text/plain": [
              "<Figure size 432x288 with 2 Axes>"
            ]
          },
          "metadata": {
            "tags": [],
            "needs_background": "light"
          }
        }
      ]
    },
    {
      "cell_type": "markdown",
      "metadata": {
        "id": "mqNS5bKPNcLM",
        "colab_type": "text"
      },
      "source": [
        "Failing  scenrios"
      ]
    },
    {
      "cell_type": "code",
      "metadata": {
        "id": "MO_RX7R_Md3W",
        "colab_type": "code",
        "outputId": "b5b19df2-2523-4c22-fb20-ecd727dec2a8",
        "colab": {
          "base_uri": "https://localhost:8080/",
          "height": 254
        }
      },
      "source": [
        "from IPython.display import display\n",
        "\n",
        "for predicted in category_id_data.category_id:\n",
        "  for actual in category_id_data.category_id:\n",
        "    if predicted != actual and conf_mat[actual, predicted] >= 2:\n",
        "      print(\"'{}' predicted as '{}' : {} examples.\".format(id_to_category[actual], id_to_category[predicted], conf_mat[actual, predicted]))\n",
        "      display(data.loc[indices_test[(y_test == actual) & (y_pred == predicted)]]['Text'])\n",
        "      print('')"
      ],
      "execution_count": 0,
      "outputs": [
        {
          "output_type": "stream",
          "text": [
            "'news' predicted as 'discussions' : 3 examples.\n"
          ],
          "name": "stdout"
        },
        {
          "output_type": "display_data",
          "data": {
            "text/plain": [
              "30    U.S. President Donald Trump's top economic adv...\n",
              "43    icon-twitter\\nIt’s that time of the year again...\n",
              "60                                                     \n",
              "Name: Text, dtype: object"
            ]
          },
          "metadata": {
            "tags": []
          }
        },
        {
          "output_type": "stream",
          "text": [
            "\n",
            "'blogs' predicted as 'discussions' : 4 examples.\n"
          ],
          "name": "stdout"
        },
        {
          "output_type": "display_data",
          "data": {
            "text/plain": [
              "16    if(isset($_POST['btnsave']))\\n{\\n for($i=0; $i...\n",
              "73    About me\\nWelcome to my blog, tea-amour! This ...\n",
              "7     ( google map ) QR Code Link to This Post I hav...\n",
              "82    i really just u want to be the kind of girl th...\n",
              "Name: Text, dtype: object"
            ]
          },
          "metadata": {
            "tags": []
          }
        },
        {
          "output_type": "stream",
          "text": [
            "\n"
          ],
          "name": "stdout"
        }
      ]
    }
  ]
}